{
 "cells": [
  {
   "cell_type": "code",
   "execution_count": 1,
   "metadata": {},
   "outputs": [],
   "source": [
    "import coffea\n",
    "import coffea.hist as hist\n",
    "from coffea.nanoevents.methods import vector\n",
    "import uproot\n",
    "import matplotlib.pyplot as plt\n",
    "import mplhep as hep\n",
    "import numpy as np\n",
    "\n",
    "from pyjet import cluster\n",
    "import awkward as ak\n",
    "import sys\n",
    "sys.path.insert(0,\"../\")"
   ]
  },
  {
   "cell_type": "code",
   "execution_count": 2,
   "metadata": {},
   "outputs": [],
   "source": [
    "def getLZDF(f,nEvents=-1):\n",
    "    events_raw = uproot.open(f)['MuonSystem']\n",
    "    df = coffea.processor.LazyDataFrame(events_raw,entrystop=nEvents)\n",
    "    start,stop = df._branchargs['entry_start'],df._branchargs['entry_stop']\n",
    "    events = uproot.lazy(df._tree)\n",
    "    events = events[start:stop]\n",
    "    return events"
   ]
  },
  {
   "cell_type": "code",
   "execution_count": 3,
   "metadata": {},
   "outputs": [],
   "source": [
    "m4_100 = getLZDF(\"/uscms/home/kkwok/lpclonglived/HNL/skim/HNL_electronType_mHNL4p0_pl100/HeavyNeutralLepton_Tree.root\")\n",
    "m4_1000= getLZDF(\"/uscms/home/kkwok/lpclonglived/HNL/skim/HNL_electronType_mHNL4p0_pl1000/HeavyNeutralLepton_Tree.root\")\n",
    "m4_10  = getLZDF(\"/uscms/home/kkwok/lpclonglived/HNL/skim/HNL_electronType_mHNL4p0_pl10/HeavyNeutralLepton_Tree.root\")\n",
    "\n",
    "m1_100 = getLZDF(\"/uscms/home/kkwok/lpclonglived/HNL/skim/HNL_electronType_mHNL1p0_pl100/HeavyNeutralLepton_Tree.root\")\n",
    "m1_1000= getLZDF(\"/uscms/home/kkwok/lpclonglived/HNL/skim/HNL_electronType_mHNL1p0_pl1000/HeavyNeutralLepton_Tree.root\")\n",
    "m1_10  = getLZDF(\"/uscms/home/kkwok/lpclonglived/HNL/skim/HNL_electronType_mHNL1p0_pl10/HeavyNeutralLepton_Tree.root\")\n",
    "\n",
    "m2_100 = getLZDF(\"/uscms/home/kkwok/lpclonglived/HNL/skim/HNL_electronType_mHNL2p0_pl100/HeavyNeutralLepton_Tree.root\")\n",
    "m2_1000= getLZDF(\"/uscms/home/kkwok/lpclonglived/HNL/skim/HNL_electronType_mHNL2p0_pl1000/HeavyNeutralLepton_Tree.root\")\n",
    "m2_10  = getLZDF(\"/uscms/home/kkwok/lpclonglived/HNL/skim/HNL_electronType_mHNL2p0_pl10/HeavyNeutralLepton_Tree.root\")\n",
    "\n",
    "m7_100 = getLZDF(\"/uscms/home/kkwok/lpclonglived/HNL/skim/HNL_electronType_mHNL7p0_pl100/HeavyNeutralLepton_Tree.root\")\n",
    "m7_1000= getLZDF(\"/uscms/home/kkwok/lpclonglived/HNL/skim/HNL_electronType_mHNL7p0_pl1000/HeavyNeutralLepton_Tree.root\")\n",
    "m7_10000= getLZDF(\"/uscms/home/kkwok/lpclonglived/HNL/skim/HNL_electronType_mHNL7p0_pl10000/HeavyNeutralLepton_Tree.root\")\n",
    "\n",
    "# m10_100 = getLZDF(\"/uscms/home/kkwok/lpclonglived/HNL/skim/HNL_electronType_mHNL10p0_pl100/HeavyNeutralLepton_Tree.root\")\n",
    "# m10_1000= getLZDF(\"/uscms/home/kkwok/lpclonglived/HNL/skim/HNL_electronType_mHNL10p0_pl1000/HeavyNeutralLepton_Tree.root\")\n",
    "# m10_10  = getLZDF(\"/uscms/home/kkwok/lpclonglived/HNL/skim/HNL_electronType_mHNL10p0_pl10/HeavyNeutralLepton_Tree.root\")"
   ]
  },
  {
   "cell_type": "code",
   "execution_count": 3,
   "metadata": {},
   "outputs": [],
   "source": [
    "m4_1000_mu= getLZDF(\"/uscms/home/kkwok/lpclonglived/HNL/skim/HNL_muonType_mHNL4p0_pl1000/HeavyNeutralLepton_Tree.root\")"
   ]
  },
  {
   "cell_type": "code",
   "execution_count": 4,
   "metadata": {},
   "outputs": [],
   "source": [
    "\n",
    "def selectABCD(p,events):\n",
    "    llp                = p.buildLLP(events)\n",
    "    good_lep,ele,muons = p.buildGoodLeptons(events)\n",
    "    cluster       = p.buildCSCcluster(events,good_lep)\n",
    "    clusterMasks   = p.selectCSCcluster(cluster,events)\n",
    "    dt_cluster = p.buildDTcluster(events,good_lep)\n",
    "    dt_clusterMasks = p.selectDTcluster(dt_cluster,events)    \n",
    "\n",
    "    def buildMask(allMasks,cutnames):\n",
    "        allcuts = allMasks[cutnames[0]]\n",
    "        for i,cutname in enumerate(cutnames):\n",
    "            allcuts = (allcuts) & allMasks[cutname]\n",
    "        return allcuts\n",
    "    \n",
    "    if p.isElectronChannel:\n",
    "        preselections = ['trigger_ele','MET',\"METfilters\",'good_lepton']\n",
    "    else:\n",
    "        preselections = ['trigger_mu','MET',\"METfilters\",'good_lepton']\n",
    "\n",
    "    selectionMasks={}\n",
    "    selectionMasks['Acceptance']   =ak.firsts(events.gLLP_csc)==1\n",
    "    selectionMasks['Acceptance_dt']=ak.firsts(events.gLLP_dt)==1\n",
    "    selectionMasks['METfilters']   =events.Flag2_all==True\n",
    "    selectionMasks['trigger_ele']  =events.SingleEleTrigger==True\n",
    "    selectionMasks['trigger_mu']   =events.SingleMuonTrigger==True\n",
    "    selectionMasks['good_lepton']=ak.num(good_lep,axis=1)==1\n",
    "    # selectionMasks['good_mu']      =ak.num(good_mu,axis=1)==1\n",
    "    selectionMasks['MET']          =events.metEENoise>=30\n",
    "    selectionMasks['n_cls']        =ak.num(cluster,axis=1)>=1\n",
    "    selectionMasks['cls_ABCD']  = (   ((clusterMasks.jetVeto_mask) &(clusterMasks.muonVeto_mask))\n",
    "        & (clusterMasks.ME11_12_veto)\n",
    "        &((clusterMasks.MB1seg_veto) & (clusterMasks.RB1_veto))\n",
    "        & (clusterMasks.IntimeCut)\n",
    "        & (clusterMasks.timeSpreadCut)\n",
    "        & (clusterMasks.ClusterID))\n",
    "    selectionMasks['dt_cls_ABCD'] =( (( dt_clusterMasks.dt_jetVeto) &(dt_clusterMasks.dt_muonVeto))\n",
    "                                            & (dt_clusterMasks.dt_MB1veto)\n",
    "                                            & (dt_clusterMasks.dt_RPC)\n",
    "                                            & (dt_clusterMasks.dt_MB1adj)\n",
    "                                            & (dt_clusterMasks.dt_time))   \n",
    "    regions = {\n",
    "                \"presel\"         :preselections,\n",
    "                \"ABCD\"         :preselections+[\"cls_ABCD\"],\n",
    "                \"ABCD_dt\"      :preselections+[\"dt_cls_ABCD\"],        \n",
    "    }\n",
    "\n",
    "    CSC_cut = buildMask(selectionMasks,regions['ABCD'])\n",
    "    DT_cut = buildMask(selectionMasks,regions['ABCD_dt'])    \n",
    "    return CSC_cut,DT_cut,cluster,dt_cluster\n",
    "\n",
    "def getWeight(gLLP_ctau, tau_old,tau_new):\n",
    "    return np.exp(gLLP_ctau*(1/tau_old-1/tau_new))*(tau_old/tau_new)\n",
    "def reweightXsec(ctau,mass):\n",
    "    #ctau in mm\n",
    "    #mass in GeV\n",
    "    #xsec in pb\n",
    "    cof={\n",
    "        \"1\":9.51561675,\n",
    "        \"2\":6.04926165,\n",
    "        \"4\":2.55645182,\n",
    "        \"7\":-0.29378948,\n",
    "        \"10\":-2.11196473,\n",
    "    }\n",
    "    return np.exp(-1*np.log(ctau)+cof[mass]*np.ones_like(ctau))"
   ]
  },
  {
   "cell_type": "code",
   "execution_count": 19,
   "metadata": {},
   "outputs": [],
   "source": [
    "m4_1000= getLZDF(\"/uscms/home/kkwok/lpclonglived/HNL/skim/HNL_electronType_mHNL4p0_pl1000/HeavyNeutralLepton_Tree.root\")"
   ]
  },
  {
   "cell_type": "code",
   "execution_count": 5,
   "metadata": {},
   "outputs": [],
   "source": [
    "from HNLprocessor.HNLproc_4 import MyProcessor\n",
    "p = MyProcessor(isElectronChannel=True)\n",
    "p_mu= MyProcessor(isElectronChannel=False)\n",
    "\n",
    "# csc_cut,dt_cut,cls,cls_dt =selectABCD(p,m4_1000)\n",
    "csc_cut,dt_cut,cls,cls_dt =selectABCD(p_mu,m4_1000_mu)"
   ]
  },
  {
   "cell_type": "code",
   "execution_count": 7,
   "metadata": {},
   "outputs": [
    {
     "data": {
      "text/plain": [
       "<Array [[{time: 72.6, ... ] type='2913 * var * {\"time\": float32, \"size\": int32, ...'>"
      ]
     },
     "execution_count": 7,
     "metadata": {},
     "output_type": "execute_result"
    }
   ],
   "source": [
    "cls[ak.num(cls)>1]"
   ]
  },
  {
   "cell_type": "code",
   "execution_count": 24,
   "metadata": {},
   "outputs": [],
   "source": [
    "matchLLP = m4_1000_mu.cscRechitCluster3_match_gLLP"
   ]
  },
  {
   "cell_type": "code",
   "execution_count": 25,
   "metadata": {},
   "outputs": [
    {
     "data": {
      "text/plain": [
       "<Array [[], [], [], [], ... [], [], [], []] type='659710 * var * bool'>"
      ]
     },
     "execution_count": 25,
     "metadata": {},
     "output_type": "execute_result"
    }
   ],
   "source": [
    "matchLLP==True"
   ]
  },
  {
   "cell_type": "code",
   "execution_count": 177,
   "metadata": {},
   "outputs": [],
   "source": [
    "sizeCut = 220\n",
    "dphi_lepCut = 1.989675\n",
    "dphi_METCut = 0.7\n",
    "\n",
    "\n",
    "A = ((cls.dphi_cluster_lep<dphi_lepCut)&(cls.size>sizeCut) &(cls.dphi_cluster_MET<dphi_METCut))\n",
    "B = ((cls.dphi_cluster_lep<dphi_lepCut)&(cls.size<sizeCut) &(cls.dphi_cluster_MET<dphi_METCut))\n",
    "C = ((cls.dphi_cluster_lep>dphi_lepCut)&(cls.size<sizeCut) &(cls.dphi_cluster_MET<dphi_METCut))\n",
    "SR = ((cls.dphi_cluster_lep>dphi_lepCut)&(cls.size>sizeCut) &(cls.dphi_cluster_MET<dphi_METCut))\n",
    "\n",
    "SR_ev_cut = ak.any((csc_cut) & (matchLLP==True) & (SR),axis=1)\n",
    "SR_cut = (csc_cut)  & (matchLLP==True) & (SR)\n",
    "A_cut  = (csc_cut)  & (matchLLP==True) & (A)\n",
    "B_cut  = (csc_cut)  & (matchLLP==True) & (B)\n",
    "C_cut  = (csc_cut)  & (matchLLP==True) & (C)"
   ]
  },
  {
   "cell_type": "code",
   "execution_count": 166,
   "metadata": {},
   "outputs": [
    {
     "data": {
      "text/plain": [
       "<Array [False, False, False, ... False, False] type='217 * bool'>"
      ]
     },
     "execution_count": 166,
     "metadata": {},
     "output_type": "execute_result"
    }
   ],
   "source": [
    "ak.num(cls[SR_ev_cut],axis=1)>1"
   ]
  },
  {
   "cell_type": "code",
   "execution_count": 178,
   "metadata": {},
   "outputs": [
    {
     "data": {
      "text/plain": [
       "235.0"
      ]
     },
     "execution_count": 178,
     "metadata": {},
     "output_type": "execute_result"
    }
   ],
   "source": [
    "ak.sum(getWeight(ak.firsts(m4_1000_mu.gLLP_ctau),100,100)*ak.ones_like(cls.size)[A_cut])"
   ]
  },
  {
   "cell_type": "code",
   "execution_count": 180,
   "metadata": {},
   "outputs": [
    {
     "data": {
      "text/plain": [
       "669.0"
      ]
     },
     "execution_count": 180,
     "metadata": {},
     "output_type": "execute_result"
    }
   ],
   "source": [
    "ak.sum(getWeight(ak.firsts(m4_1000_mu.gLLP_ctau),100,100)*ak.ones_like(cls.size)[B_cut])"
   ]
  },
  {
   "cell_type": "code",
   "execution_count": 181,
   "metadata": {},
   "outputs": [
    {
     "data": {
      "text/plain": [
       "601.0"
      ]
     },
     "execution_count": 181,
     "metadata": {},
     "output_type": "execute_result"
    }
   ],
   "source": [
    "ak.sum(getWeight(ak.firsts(m4_1000_mu.gLLP_ctau),100,100)*ak.ones_like(cls.size)[C_cut])"
   ]
  },
  {
   "cell_type": "code",
   "execution_count": 183,
   "metadata": {},
   "outputs": [
    {
     "data": {
      "text/plain": [
       "217.0"
      ]
     },
     "execution_count": 183,
     "metadata": {},
     "output_type": "execute_result"
    }
   ],
   "source": [
    "ak.sum(getWeight(ak.firsts(m4_1000_mu.gLLP_ctau),100,100)*ak.ones_like(cls.size)[SR_cut])"
   ]
  },
  {
   "cell_type": "code",
   "execution_count": 192,
   "metadata": {},
   "outputs": [
    {
     "data": {
      "text/plain": [
       "0.12890000039300367"
      ]
     },
     "execution_count": 192,
     "metadata": {},
     "output_type": "execute_result"
    }
   ],
   "source": [
    "reweightXsec(100,\"4\")"
   ]
  },
  {
   "cell_type": "code",
   "execution_count": 191,
   "metadata": {},
   "outputs": [
    {
     "data": {
      "text/plain": [
       "0.25780000078600745"
      ]
     },
     "execution_count": 191,
     "metadata": {},
     "output_type": "execute_result"
    }
   ],
   "source": [
    "reweightXsec(50,\"4\")"
   ]
  },
  {
   "cell_type": "code",
   "execution_count": 179,
   "metadata": {},
   "outputs": [
    {
     "name": "stdout",
     "output_type": "stream",
     "text": [
      "Yield =  235\n",
      "xsec   =  0.012890000039300369\n",
      "lumi x xsec 1765.9300053841505\n",
      "Xsec weight 0.0026768277051797767\n",
      "Yield at 137fb =  0.6290545107172475\n"
     ]
    }
   ],
   "source": [
    "# ctau new in mm 500\n",
    "# lumi in pb\n",
    "lumi = 137 *1000 \n",
    "xsec = reweightXsec(1000,\"4\")\n",
    "yields = 235\n",
    "\n",
    "print(\"Yield = \",yields)\n",
    "print(\"xsec   = \",xsec)\n",
    "print(\"lumi x xsec\", xsec*lumi)\n",
    "print(\"Xsec weight\", xsec*lumi/len(m4_1000_mu))\n",
    "\n",
    "print(\"Yield at 137fb = \",yields * xsec *lumi/len(m4_1000_mu))"
   ]
  },
  {
   "cell_type": "code",
   "execution_count": 175,
   "metadata": {},
   "outputs": [
    {
     "data": {
      "text/plain": [
       "2.4310344827586206"
      ]
     },
     "execution_count": 175,
     "metadata": {},
     "output_type": "execute_result"
    }
   ],
   "source": [
    "1.41/0.58"
   ]
  },
  {
   "cell_type": "code",
   "execution_count": 156,
   "metadata": {},
   "outputs": [
    {
     "data": {
      "text/plain": [
       "<AxesSubplot:xlabel='nhit', ylabel='Count'>"
      ]
     },
     "execution_count": 156,
     "metadata": {},
     "output_type": "execute_result"
    },
    {
     "data": {
      "image/png": "[encoded data removed]",
      "text/plain": [
       "<Figure size 432x288 with 1 Axes>"
      ]
     },
     "metadata": {
      "needs_background": "light"
     },
     "output_type": "display_data"
    }
   ],
   "source": [
    "h= hist.Hist(\"Count\",\n",
    "             hist.Bin(\"size\",\"nhit\",100,0,1000))\n",
    "h.fill(size=ak.flatten(cls[SR_cut].size))\n",
    "hist.plot1d(h)"
   ]
  },
  {
   "cell_type": "code",
   "execution_count": null,
   "metadata": {},
   "outputs": [],
   "source": []
  },
  {
   "cell_type": "code",
   "execution_count": 136,
   "metadata": {},
   "outputs": [],
   "source": [
    "cls_short=cls[ak.any(csc_cut,axis=1)]"
   ]
  },
  {
   "cell_type": "code",
   "execution_count": 141,
   "metadata": {},
   "outputs": [
    {
     "data": {
      "text/plain": [
       "<Array [[280, 87], [90, 75, ... 55], [73, 54]] type='18 * var * int32'>"
      ]
     },
     "execution_count": 141,
     "metadata": {},
     "output_type": "execute_result"
    }
   ],
   "source": [
    "cls_short[ak.num(cls[ak.any(csc_cut,axis=1)])>1].size"
   ]
  },
  {
   "cell_type": "code",
   "execution_count": 56,
   "metadata": {},
   "outputs": [],
   "source": [
    "\n",
    "\n",
    "\n",
    "c\n",
    "cls_ABCD = ak.flatten(cls[csc_cut])\n"
   ]
  },
  {
   "cell_type": "code",
   "execution_count": 63,
   "metadata": {},
   "outputs": [],
   "source": []
  },
  {
   "cell_type": "code",
   "execution_count": 64,
   "metadata": {},
   "outputs": [],
   "source": [
    "cls = cls[mask]"
   ]
  },
  {
   "cell_type": "code",
   "execution_count": 65,
   "metadata": {},
   "outputs": [
    {
     "data": {
      "text/plain": [
       "<Array [{time: -0.26, ... dr_cluster_lep: 3.1}] type='11 * {\"time\": float32, \"si...'>"
      ]
     },
     "execution_count": 65,
     "metadata": {},
     "output_type": "execute_result"
    }
   ],
   "source": [
    "cls"
   ]
  },
  {
   "cell_type": "code",
   "execution_count": 54,
   "metadata": {},
   "outputs": [
    {
     "data": {
      "text/plain": [
       "['time',\n",
       " 'size',\n",
       " 'timeSpread',\n",
       " 'eta',\n",
       " 'phi',\n",
       " 'x',\n",
       " 'y',\n",
       " 'z',\n",
       " 'llp_x',\n",
       " 'llp_y',\n",
       " 'llp_z',\n",
       " 'NChamber',\n",
       " 'MaxChamber',\n",
       " 'MaxStation',\n",
       " 'NStation10',\n",
       " 'AvgStation10',\n",
       " 'ME11_12',\n",
       " 'llp_match',\n",
       " 'RE12',\n",
       " 'MB1seg',\n",
       " 'RB1',\n",
       " 'dphi_cluster_MET',\n",
       " 'dphi_cluster_lep',\n",
       " 'dr_cluster_lep']"
      ]
     },
     "execution_count": 54,
     "metadata": {},
     "output_type": "execute_result"
    }
   ],
   "source": [
    "cls.fields"
   ]
  },
  {
   "cell_type": "code",
   "execution_count": 26,
   "metadata": {},
   "outputs": [
    {
     "data": {
      "text/plain": [
       "<Array [] type='0 * {\"time\": float32, \"size\": int32, \"timeSpread\": float32, \"eta...'>"
      ]
     },
     "execution_count": 26,
     "metadata": {},
     "output_type": "execute_result"
    }
   ],
   "source": [
    "ak.flatten(cluster[cut])"
   ]
  },
  {
   "cell_type": "code",
   "execution_count": 8,
   "metadata": {},
   "outputs": [],
   "source": [
    "lep=ak.zip({\n",
    "    'pt':events.lepPt ,\n",
    "    'eta':events.lepEta,\n",
    "    'phi':events.lepPhi,\n",
    "    'energy':events.lepE,\n",
    "    'pdgid':events.lepPdgId,\n",
    "    'passId':events.lepPassId,\n",
    "},with_name='PtEtaPhiELorentzVector',\n",
    "behavior=vector.behavior\n",
    ")"
   ]
  },
  {
   "cell_type": "code",
   "execution_count": 7,
   "metadata": {},
   "outputs": [],
   "source": [
    "# events =events_1 \n",
    "cluster= ak.zip(\n",
    "    {\n",
    "        \"time\":events.cscRechitCluster3Time,\n",
    "        'size':events.cscRechitCluster3Size,\n",
    "        \"timeSpread\":events.cscRechitCluster3TimeSpread,\n",
    "        \"eta\":events.cscRechitCluster3Eta,\n",
    "        \"phi\":events.cscRechitCluster3Phi,        \n",
    "        \"x\":events.cscRechitCluster3X,\n",
    "        \"y\":events.cscRechitCluster3Y,\n",
    "        \"z\":events.cscRechitCluster3Z,   \n",
    "        'llp_x':events.cscRechitCluster3_match_gLLP_decay_x,\n",
    "        'llp_y':events.cscRechitCluster3_match_gLLP_decay_y,\n",
    "        'llp_z':events.cscRechitCluster3_match_gLLP_decay_z,        \n",
    "        \"NChamber\":events.cscRechitCluster3NChamber,\n",
    "        \"MaxChamber\":events.cscRechitCluster3MaxChamber,\n",
    "        \"MaxStation\":events.cscRechitCluster3MaxStation,\n",
    "        'ME11ratio':events.cscRechitCluster3Me11Ratio,\n",
    "        'ME12ratio':events.cscRechitCluster3Me12Ratio,        \n",
    "        'match_MB1Seg_0p4':events.cscRechitCluster3_match_MB1Seg_0p4,\n",
    "        'match_RE12_0p4':events.cscRechitCluster3_match_RE12_0p4,        \n",
    "        'match_RB1_0p4':events.cscRechitCluster3_match_RB1_0p4,                \n",
    "        \"NStation10\":events.cscRechitCluster3NStation10,\n",
    "        \"AvgStation10\":events.cscRechitCluster3AvgStation10,\n",
    "        \"llp_match\":events.cscRechitCluster3_match_gLLP,\n",
    "        \"dphi_cluster_MET\":events.cscRechitCluster3MetXYCorr_dPhi,\n",
    "    }\n",
    ")\n"
   ]
  },
  {
   "cell_type": "code",
   "execution_count": 19,
   "metadata": {},
   "outputs": [
    {
     "data": {
      "text/plain": [
       "[{'pt': 15.53358268737793,\n",
       "  'EMfrac': 0.3645990192890167,\n",
       "  'e': 703.39697265625,\n",
       "  'z': 265.89727783203125,\n",
       "  'y': -4.984921932220459,\n",
       "  'x': 2.8567469120025635,\n",
       "  'r': 5.745472431182861},\n",
       " {'pt': -666.0,\n",
       "  'EMfrac': -0.38507184386253357,\n",
       "  'e': -666.0,\n",
       "  'z': -666.0,\n",
       "  'y': -666.0,\n",
       "  'x': -666.0,\n",
       "  'r': 941.8662109375}]"
      ]
     },
     "execution_count": 19,
     "metadata": {},
     "output_type": "execute_result"
    }
   ],
   "source": [
    "llp[845].to_list()"
   ]
  },
  {
   "cell_type": "code",
   "execution_count": 14,
   "metadata": {},
   "outputs": [
    {
     "data": {
      "text/plain": [
       "[{'time': -21.936141967773438,\n",
       "  'size': 57,\n",
       "  'timeSpread': 24.42901611328125,\n",
       "  'eta': 2.1560451984405518,\n",
       "  'phi': 2.2853572368621826,\n",
       "  'x': -134.80467224121094,\n",
       "  'y': 155.39617919921875,\n",
       "  'z': 876.4788208007812,\n",
       "  'llp_x': 999.0,\n",
       "  'llp_y': 999.0,\n",
       "  'llp_z': 999.0,\n",
       "  'NChamber': 2,\n",
       "  'MaxChamber': 21,\n",
       "  'MaxStation': 2,\n",
       "  'ME11ratio': 0.07017543911933899,\n",
       "  'ME12ratio': 0.0,\n",
       "  'match_MB1Seg_0p4': 0,\n",
       "  'match_RE12_0p4': 0,\n",
       "  'match_RB1_0p4': 0,\n",
       "  'NStation10': 2,\n",
       "  'AvgStation10': 2.5,\n",
       "  'llp_match': False,\n",
       "  'dphi_cluster_MET': -2.501770257949829},\n",
       " {'time': 19.592082977294922,\n",
       "  'size': 53,\n",
       "  'timeSpread': 13.656285285949707,\n",
       "  'eta': -2.237352132797241,\n",
       "  'phi': 0.2382594794034958,\n",
       "  'x': 179.5574951171875,\n",
       "  'y': 43.609619140625,\n",
       "  'z': -855.6812133789062,\n",
       "  'llp_x': 999.0,\n",
       "  'llp_y': 999.0,\n",
       "  'llp_z': 999.0,\n",
       "  'NChamber': 4,\n",
       "  'MaxChamber': -31,\n",
       "  'MaxStation': -3,\n",
       "  'ME11ratio': 0.22641509771347046,\n",
       "  'ME12ratio': 0.0,\n",
       "  'match_MB1Seg_0p4': 0,\n",
       "  'match_RE12_0p4': 0,\n",
       "  'match_RB1_0p4': 0,\n",
       "  'NStation10': 4,\n",
       "  'AvgStation10': -2.528301954269409,\n",
       "  'llp_match': False,\n",
       "  'dphi_cluster_MET': 1.7343173027038574}]"
      ]
     },
     "execution_count": 14,
     "metadata": {},
     "output_type": "execute_result"
    }
   ],
   "source": [
    "cluster[845].to_list()"
   ]
  },
  {
   "cell_type": "code",
   "execution_count": 24,
   "metadata": {},
   "outputs": [],
   "source": [
    "muons = lep[abs(lep.pdgid)==13]\n",
    "# good_ele = ele[(ele.pt>35) & (abs(ele.eta)<2.4) & (ele.passId)]\n",
    "good_mu  = muons[(muons.pt>25)&(abs(muons.eta)<2.4) & (muons.passId)]"
   ]
  },
  {
   "cell_type": "code",
   "execution_count": 26,
   "metadata": {},
   "outputs": [],
   "source": [
    "presel = (events.SingleMuonTrigger==True) &\\\n",
    "        (events.metEENoise>=30) &\\\n",
    "        (events.Flag2_all) &\\\n",
    "        (ak.num(good_mu,axis=1)==1)\n"
   ]
  },
  {
   "cell_type": "code",
   "execution_count": 1,
   "metadata": {},
   "outputs": [
    {
     "ename": "NameError",
     "evalue": "name 'ak' is not defined",
     "output_type": "error",
     "traceback": [
      "\u001b[0;31m---------------------------------------------------------------------------\u001b[0m",
      "\u001b[0;31mNameError\u001b[0m                                 Traceback (most recent call last)",
      "\u001b[0;32m<ipython-input-1-bc6bd609d2c5>\u001b[0m in \u001b[0;36m<module>\u001b[0;34m\u001b[0m\n\u001b[1;32m      2\u001b[0m \u001b[0;31m## b = clusters that passes selections\u001b[0m\u001b[0;34m\u001b[0m\u001b[0;34m\u001b[0m\u001b[0;34m\u001b[0m\u001b[0m\n\u001b[1;32m      3\u001b[0m \u001b[0;34m\u001b[0m\u001b[0m\n\u001b[0;32m----> 4\u001b[0;31m \u001b[0ma\u001b[0m \u001b[0;34m=\u001b[0m \u001b[0mak\u001b[0m\u001b[0;34m.\u001b[0m\u001b[0mArray\u001b[0m\u001b[0;34m(\u001b[0m\u001b[0;34m[\u001b[0m\u001b[0;34m[\u001b[0m\u001b[0;36m100\u001b[0m\u001b[0;34m,\u001b[0m\u001b[0;36m200\u001b[0m\u001b[0;34m]\u001b[0m\u001b[0;34m,\u001b[0m\u001b[0;34m[\u001b[0m\u001b[0;36m50\u001b[0m\u001b[0;34m]\u001b[0m\u001b[0;34m,\u001b[0m\u001b[0;34m[\u001b[0m\u001b[0;36m10\u001b[0m\u001b[0;34m]\u001b[0m\u001b[0;34m,\u001b[0m\u001b[0;34m[\u001b[0m\u001b[0;36m100\u001b[0m\u001b[0;34m,\u001b[0m\u001b[0;36m300\u001b[0m\u001b[0;34m,\u001b[0m\u001b[0;36m400\u001b[0m\u001b[0;34m]\u001b[0m\u001b[0;34m]\u001b[0m\u001b[0;34m)\u001b[0m\u001b[0;34m\u001b[0m\u001b[0;34m\u001b[0m\u001b[0m\n\u001b[0m\u001b[1;32m      5\u001b[0m \u001b[0mclusterSelections\u001b[0m \u001b[0;34m=\u001b[0m \u001b[0ma\u001b[0m\u001b[0;34m>\u001b[0m\u001b[0;36m150\u001b[0m\u001b[0;34m\u001b[0m\u001b[0;34m\u001b[0m\u001b[0m\n\u001b[1;32m      6\u001b[0m \u001b[0mb\u001b[0m \u001b[0;34m=\u001b[0m\u001b[0ma\u001b[0m\u001b[0;34m[\u001b[0m\u001b[0mclusterSelections\u001b[0m\u001b[0;34m]\u001b[0m\u001b[0;34m\u001b[0m\u001b[0;34m\u001b[0m\u001b[0m\n",
      "\u001b[0;31mNameError\u001b[0m: name 'ak' is not defined"
     ]
    }
   ],
   "source": [
    "## Here a = all clusters\n",
    "## b = clusters that passes selections\n",
    "\n",
    "a = ak.Array([[100,200],[50],[10],[100,300,400]])\n",
    "clusterSelections = a>150\n",
    "b =a[clusterSelections]\n",
    "print(b)"
   ]
  },
  {
   "cell_type": "code",
   "execution_count": 38,
   "metadata": {},
   "outputs": [
    {
     "name": "stdout",
     "output_type": "stream",
     "text": [
      "[[False, True], [False], [False], [False, True, True]]\n",
      "[2, 1, 1, 3]\n",
      "[1, 0, 0, 2]\n"
     ]
    }
   ],
   "source": [
    "print(a>150)                 ## Note multiple objects per event\n",
    "print(ak.num(a>150,axis=1))  ## This counts number of _objects_ in a per event\n",
    "print(ak.num(b,axis=1))      ## This counts number of clusters that passes the selection "
   ]
  },
  {
   "cell_type": "code",
   "execution_count": 39,
   "metadata": {},
   "outputs": [
    {
     "name": "stdout",
     "output_type": "stream",
     "text": [
      "[True, True, True, True]\n",
      "[True, False, False, True]\n",
      "[True, False, False, True]\n"
     ]
    }
   ],
   "source": [
    "print(ak.num(a>150,axis=1)>=1)    ## this is wrong\n",
    "print(ak.any(a>150,axis=1)>=1)    ## this is correct, if we use ak.any\n",
    "print(ak.num(b,axis=1)>=1)        ## this is correct\n",
    "\n",
    "eventMask = ak.num(b,axis=1)>=1   ## In the processor, we chose this method"
   ]
  },
  {
   "cell_type": "code",
   "execution_count": 40,
   "metadata": {},
   "outputs": [
    {
     "name": "stdout",
     "output_type": "stream",
     "text": [
      "[[100, 200], [100, 300, 400]]\n"
     ]
    }
   ],
   "source": [
    "print(a[eventMask])    ## This is what we're filling the histogram with, hence extra clusters are there"
   ]
  },
  {
   "cell_type": "code",
   "execution_count": 59,
   "metadata": {},
   "outputs": [
    {
     "data": {
      "text/plain": [
       "<Array [[200], [300, 400]] type='2 * var * int64'>"
      ]
     },
     "execution_count": 59,
     "metadata": {},
     "output_type": "execute_result"
    }
   ],
   "source": [
    "### Solution 1: apply the mask\n",
    "b[eventMask]           ## This will filter out the wrong clusters, but keep the right events"
   ]
  },
  {
   "cell_type": "code",
   "execution_count": 60,
   "metadata": {},
   "outputs": [
    {
     "data": {
      "text/plain": [
       "<Array [[200], [], [], [300, 400]] type='4 * var * int64'>"
      ]
     },
     "execution_count": 60,
     "metadata": {},
     "output_type": "execute_result"
    }
   ],
   "source": [
    "### Solution 2: apply the &\n",
    "a[eventMask &clusterSelections] ## This should only keep the right events with right clusters"
   ]
  },
  {
   "cell_type": "code",
   "execution_count": 57,
   "metadata": {},
   "outputs": [
    {
     "name": "stdout",
     "output_type": "stream",
     "text": [
      "[[100, 200], [50], [10], [100, 300, 400]]\n",
      "[True, False, False, True]\n",
      "[[False, True], [False], [False], [False, True, True]]\n",
      "[[200], [], [], [300, 400]]\n",
      "[[200], [300, 400]]\n"
     ]
    }
   ],
   "source": [
    "print(a)\n",
    "eventMask = ak.any(a>150,axis=1)>=1\n",
    "clusterMask = a>150\n",
    "print(eventMask)  ## event mask\n",
    "print(clusterMask)                    ## cluster mask\n",
    "print(a[eventMask & clusterMask])    ## I want this array\n",
    "b = a[clusterMask]\n",
    "print(b[eventMask]) ## Can do this"
   ]
  },
  {
   "cell_type": "code",
   "execution_count": null,
   "metadata": {},
   "outputs": [],
   "source": []
  },
  {
   "cell_type": "code",
   "execution_count": 47,
   "metadata": {},
   "outputs": [
    {
     "ename": "ValueError",
     "evalue": "Expected an array of type N * primitive or N * ?primitive, received: 4 * var * bool",
     "output_type": "error",
     "traceback": [
      "\u001b[0;31m---------------------------------------------------------------------------\u001b[0m",
      "\u001b[0;31mValueError\u001b[0m                                Traceback (most recent call last)",
      "\u001b[0;32m<ipython-input-47-a30d5f601ffa>\u001b[0m in \u001b[0;36m<module>\u001b[0;34m\u001b[0m\n\u001b[1;32m      6\u001b[0m \u001b[0;34m\u001b[0m\u001b[0m\n\u001b[1;32m      7\u001b[0m \u001b[0meventSelection\u001b[0m\u001b[0;34m.\u001b[0m\u001b[0madd\u001b[0m\u001b[0;34m(\u001b[0m\u001b[0;34m\"event\"\u001b[0m\u001b[0;34m,\u001b[0m\u001b[0meventMask\u001b[0m\u001b[0;34m)\u001b[0m\u001b[0;34m\u001b[0m\u001b[0;34m\u001b[0m\u001b[0m\n\u001b[0;32m----> 8\u001b[0;31m \u001b[0mclusterSelection\u001b[0m\u001b[0;34m.\u001b[0m\u001b[0madd\u001b[0m\u001b[0;34m(\u001b[0m\u001b[0;34m\"cls\"\u001b[0m\u001b[0;34m,\u001b[0m\u001b[0mclusterSelections\u001b[0m\u001b[0;34m)\u001b[0m\u001b[0;34m\u001b[0m\u001b[0;34m\u001b[0m\u001b[0m\n\u001b[0m\u001b[1;32m      9\u001b[0m \u001b[0mallcuts\u001b[0m \u001b[0;34m=\u001b[0m \u001b[0;34m[\u001b[0m\u001b[0;34m\"event\"\u001b[0m\u001b[0;34m,\u001b[0m\u001b[0;34m\"cls\"\u001b[0m\u001b[0;34m]\u001b[0m\u001b[0;34m\u001b[0m\u001b[0;34m\u001b[0m\u001b[0m\n\u001b[1;32m     10\u001b[0m \u001b[0mcut\u001b[0m \u001b[0;34m=\u001b[0m \u001b[0mselections\u001b[0m\u001b[0;34m.\u001b[0m\u001b[0mrequire\u001b[0m\u001b[0;34m(\u001b[0m\u001b[0;34m*\u001b[0m\u001b[0mallcuts\u001b[0m\u001b[0;34m)\u001b[0m\u001b[0;34m\u001b[0m\u001b[0;34m\u001b[0m\u001b[0m\n",
      "\u001b[0;32m~/work/LLP/CMSSW_10_6_20/src/llp_analyzer/coffeaenv/lib/python3.7/site-packages/coffea/analysis_tools.py\u001b[0m in \u001b[0;36madd\u001b[0;34m(self, name, selection, fill_value)\u001b[0m\n\u001b[1;32m    245\u001b[0m                 \u001b[0mAll\u001b[0m \u001b[0mmasked\u001b[0m \u001b[0mentries\u001b[0m \u001b[0mwill\u001b[0m \u001b[0mbe\u001b[0m \u001b[0mfilled\u001b[0m \u001b[0;32mas\u001b[0m \u001b[0mspecified\u001b[0m \u001b[0;34m(\u001b[0m\u001b[0mdefault\u001b[0m\u001b[0;34m:\u001b[0m\u001b[0;31m \u001b[0m\u001b[0;31m`\u001b[0m\u001b[0;31m`\u001b[0m\u001b[0;32mFalse\u001b[0m\u001b[0;31m`\u001b[0m\u001b[0;31m`\u001b[0m\u001b[0;34m)\u001b[0m\u001b[0;34m\u001b[0m\u001b[0;34m\u001b[0m\u001b[0m\n\u001b[1;32m    246\u001b[0m         \"\"\"\n\u001b[0;32m--> 247\u001b[0;31m         \u001b[0mselection\u001b[0m \u001b[0;34m=\u001b[0m \u001b[0mcoffea\u001b[0m\u001b[0;34m.\u001b[0m\u001b[0mutil\u001b[0m\u001b[0;34m.\u001b[0m\u001b[0m_ensure_flat\u001b[0m\u001b[0;34m(\u001b[0m\u001b[0mselection\u001b[0m\u001b[0;34m,\u001b[0m \u001b[0mallow_missing\u001b[0m\u001b[0;34m=\u001b[0m\u001b[0;32mTrue\u001b[0m\u001b[0;34m)\u001b[0m\u001b[0;34m\u001b[0m\u001b[0;34m\u001b[0m\u001b[0m\n\u001b[0m\u001b[1;32m    248\u001b[0m         \u001b[0;32mif\u001b[0m \u001b[0misinstance\u001b[0m\u001b[0;34m(\u001b[0m\u001b[0mselection\u001b[0m\u001b[0;34m,\u001b[0m \u001b[0mnumpy\u001b[0m\u001b[0;34m.\u001b[0m\u001b[0mma\u001b[0m\u001b[0;34m.\u001b[0m\u001b[0mMaskedArray\u001b[0m\u001b[0;34m)\u001b[0m\u001b[0;34m:\u001b[0m\u001b[0;34m\u001b[0m\u001b[0;34m\u001b[0m\u001b[0m\n\u001b[1;32m    249\u001b[0m             \u001b[0mselection\u001b[0m \u001b[0;34m=\u001b[0m \u001b[0mselection\u001b[0m\u001b[0;34m.\u001b[0m\u001b[0mfilled\u001b[0m\u001b[0;34m(\u001b[0m\u001b[0mfill_value\u001b[0m\u001b[0;34m)\u001b[0m\u001b[0;34m\u001b[0m\u001b[0;34m\u001b[0m\u001b[0m\n",
      "\u001b[0;32m~/work/LLP/CMSSW_10_6_20/src/llp_analyzer/coffeaenv/lib/python3.7/site-packages/coffea/util.py\u001b[0m in \u001b[0;36m_ensure_flat\u001b[0;34m(array, allow_missing)\u001b[0m\n\u001b[1;32m     66\u001b[0m     \u001b[0misoptionprimitive\u001b[0m \u001b[0;34m=\u001b[0m \u001b[0misinstance\u001b[0m\u001b[0;34m(\u001b[0m\u001b[0maktype\u001b[0m\u001b[0;34m.\u001b[0m\u001b[0mtype\u001b[0m\u001b[0;34m,\u001b[0m \u001b[0mak\u001b[0m\u001b[0;34m.\u001b[0m\u001b[0mtypes\u001b[0m\u001b[0;34m.\u001b[0m\u001b[0mOptionType\u001b[0m\u001b[0;34m)\u001b[0m \u001b[0;32mand\u001b[0m \u001b[0misinstance\u001b[0m\u001b[0;34m(\u001b[0m\u001b[0maktype\u001b[0m\u001b[0;34m.\u001b[0m\u001b[0mtype\u001b[0m\u001b[0;34m.\u001b[0m\u001b[0mtype\u001b[0m\u001b[0;34m,\u001b[0m \u001b[0mak\u001b[0m\u001b[0;34m.\u001b[0m\u001b[0mtypes\u001b[0m\u001b[0;34m.\u001b[0m\u001b[0mPrimitiveType\u001b[0m\u001b[0;34m)\u001b[0m\u001b[0;34m\u001b[0m\u001b[0;34m\u001b[0m\u001b[0m\n\u001b[1;32m     67\u001b[0m     \u001b[0;32mif\u001b[0m \u001b[0mallow_missing\u001b[0m \u001b[0;32mand\u001b[0m \u001b[0;32mnot\u001b[0m \u001b[0;34m(\u001b[0m\u001b[0misprimitive\u001b[0m \u001b[0;32mor\u001b[0m \u001b[0misoptionprimitive\u001b[0m\u001b[0;34m)\u001b[0m\u001b[0;34m:\u001b[0m\u001b[0;34m\u001b[0m\u001b[0;34m\u001b[0m\u001b[0m\n\u001b[0;32m---> 68\u001b[0;31m         \u001b[0;32mraise\u001b[0m \u001b[0mValueError\u001b[0m\u001b[0;34m(\u001b[0m\u001b[0;34m\"Expected an array of type N * primitive or N * ?primitive, received: %r\"\u001b[0m \u001b[0;34m%\u001b[0m \u001b[0maktype\u001b[0m\u001b[0;34m)\u001b[0m\u001b[0;34m\u001b[0m\u001b[0;34m\u001b[0m\u001b[0m\n\u001b[0m\u001b[1;32m     69\u001b[0m     \u001b[0;32mif\u001b[0m \u001b[0;32mnot\u001b[0m \u001b[0;34m(\u001b[0m\u001b[0mallow_missing\u001b[0m \u001b[0;32mor\u001b[0m \u001b[0misprimitive\u001b[0m\u001b[0;34m)\u001b[0m\u001b[0;34m:\u001b[0m\u001b[0;34m\u001b[0m\u001b[0;34m\u001b[0m\u001b[0m\n\u001b[1;32m     70\u001b[0m         \u001b[0;32mraise\u001b[0m \u001b[0mValueError\u001b[0m\u001b[0;34m(\u001b[0m\u001b[0;34m\"Expected an array of type N * primitive, received: %r\"\u001b[0m \u001b[0;34m%\u001b[0m \u001b[0maktype\u001b[0m\u001b[0;34m)\u001b[0m\u001b[0;34m\u001b[0m\u001b[0;34m\u001b[0m\u001b[0m\n",
      "\u001b[0;31mValueError\u001b[0m: Expected an array of type N * primitive or N * ?primitive, received: 4 * var * bool"
     ]
    }
   ],
   "source": [
    "from coffea.analysis_tools import Weighats, PackedSelection\n",
    "\n",
    "## This is the final array that we're filling the histograms\n",
    "eventSelection = PackedSelection(np.uint64)\n",
    "clusterSelection = PackedSelection(np.uint64)\n",
    "\n",
    "eventSelection.add(\"event\",eventMask)\n",
    "clusterSelection.add(\"cls\",clusterSelections)\n",
    "allcuts = [\"event\",\"cls\"]\n",
    "cut = selections.require(*allcuts)\n",
    "print(cut)\n",
    "ak.flatten(a[cut]) "
   ]
  },
  {
   "cell_type": "code",
   "execution_count": 71,
   "metadata": {},
   "outputs": [],
   "source": [
    "sel = ak.num(cluster.size>200,axis=1)>0\n",
    "sel2 = ak.any(cluster.size>200,axis=1)"
   ]
  },
  {
   "cell_type": "code",
   "execution_count": 76,
   "metadata": {},
   "outputs": [
    {
     "data": {
      "text/plain": [
       "<AxesSubplot:xlabel='nhit', ylabel='Count'>"
      ]
     },
     "execution_count": 76,
     "metadata": {},
     "output_type": "execute_result"
    },
    {
     "data": {
      "image/png": "[encoded data removed]",
      "text/plain": [
       "<Figure size 432x288 with 1 Axes>"
      ]
     },
     "metadata": {
      "needs_background": "light"
     },
     "output_type": "display_data"
    }
   ],
   "source": [
    "h= hist.Hist(\"Count\",\n",
    "             hist.Bin(\"size\",\"nhit\",100,0,1000))\n",
    "h.fill(size=ak.flatten(arr))\n",
    "hist.plot1d(h)"
   ]
  },
  {
   "cell_type": "code",
   "execution_count": null,
   "metadata": {},
   "outputs": [],
   "source": []
  },
  {
   "cell_type": "code",
   "execution_count": 48,
   "metadata": {},
   "outputs": [],
   "source": [
    "acc10 = ak.sum(ak.firsts(events_1.gLLP_csc))/len(events_1)\n",
    "acc7 = ak.sum(ak.firsts(events_2.gLLP_csc))/len(events_2)"
   ]
  }
 ],
 "metadata": {
  "kernelspec": {
   "display_name": "Python 3",
   "language": "python",
   "name": "python3"
  },
  "language_info": {
   "codemirror_mode": {
    "name": "ipython",
    "version": 3
   },
   "file_extension": ".py",
   "mimetype": "text/x-python",
   "name": "python",
   "nbconvert_exporter": "python",
   "pygments_lexer": "ipython3",
   "version": "3.7.6"
  }
 },
 "nbformat": 4,
 "nbformat_minor": 2
}
