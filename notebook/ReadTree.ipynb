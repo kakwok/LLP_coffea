{
 "cells": [
  {
   "cell_type": "code",
   "execution_count": 4,
   "metadata": {},
   "outputs": [
    {
     "name": "stderr",
     "output_type": "stream",
     "text": [
      "/uscms/home/kkwok/work/LLP/CMSSW_10_6_20/src/llp_analyzer/coffeaenv/lib/python3.7/site-packages/coffea/util.py:154: FutureWarning: In coffea version v0.8.0 (target date: 31 Dec 2022), this will be an error.\n",
      "(Set coffea.deprecations_as_errors = True to get a stack trace now.)\n",
      "ImportError: coffea.hist is deprecated\n",
      "  warnings.warn(message, FutureWarning)\n"
     ]
    }
   ],
   "source": [
    "import coffea\n",
    "import coffea.hist as hist\n",
    "from coffea.nanoevents.methods import vector\n",
    "import uproot\n",
    "import matplotlib.pyplot as plt\n",
    "import mplhep as hep\n",
    "import numpy as np\n",
    "\n",
    "from pyjet import cluster\n",
    "import awkward as ak\n",
    "import sys\n",
    "sys.path.insert(0,\"../\")\n",
    "\n",
    "from coffea.nanoevents import NanoEventsFactory, BaseSchema\n",
    "\n",
    "from HNLprocessor import util\n",
    "from HNLprocessor.HNLproc_4 import delta_r_pairs"
   ]
  },
  {
   "cell_type": "markdown",
   "metadata": {},
   "source": [
    "# Load events with uproot/ NanoEventsFactory"
   ]
  },
  {
   "cell_type": "code",
   "execution_count": 1,
   "metadata": {},
   "outputs": [],
   "source": [
    "def getLZDF(f,nEvents=-1,treename=\"MuonSystem\"):\n",
    "    events_raw = uproot.open(f)[treename]\n",
    "    df = coffea.processor.LazyDataFrame(events_raw,entrystop=nEvents)\n",
    "    start,stop = df._branchargs['entry_start'],df._branchargs['entry_stop']\n",
    "    events = uproot.lazy(df._tree)\n",
    "    events = events[start:stop]\n",
    "    return events\n",
    "\n",
    "def nanoFact(f,treePath=\"MuonSystem\"):\n",
    "    return NanoEventsFactory.from_root(f,treepath=treePath,schemaclass=BaseSchema).events()"
   ]
  },
  {
   "cell_type": "code",
   "execution_count": 13,
   "metadata": {},
   "outputs": [],
   "source": [
    "## Method 1\n",
    "events = NanoEventsFactory.from_root(\"/uscms/home/kkwok/lpclonglived/HNL/skim_Dec2/HNL_electronType_mHNL4p0_pl1000/HeavyNeutralLepton_Tree_0.root\",\n",
    "                                     treepath=\"MuonSystem\",\n",
    "                                     schemaclass=BaseSchema,\n",
    "                                     metadata={\"dataset\":\"HNL\" } ## need dataset name for histograms\n",
    "                                    ).events()\n",
    "# method 2\n",
    "# events = uproot.lazy(\"/uscms/home/kkwok/lpclonglived/HNL/skim/HNL_electronType_mHNL4p0_pl1000/HeavyNeutralLepton_Tree_0.root:MuonSystem\")\n",
    "## method 3\n",
    "# events_mu = uproot.lazy(\"/uscms/home/kkwok/lpclonglived/HNL/skim/HNL_muonType_mHNL4p0_pl1000/HeavyNeutralLepton_Tree_1*.root:MuonSystem\")\n",
    "\n"
   ]
  },
  {
   "cell_type": "code",
   "execution_count": 14,
   "metadata": {},
   "outputs": [
    {
     "data": {
      "text/plain": [
       "<NanoEventsArray [{runNum: 1, lumiSec: 4957, ... -999]}] type='15931 * event'>"
      ]
     },
     "execution_count": 14,
     "metadata": {},
     "output_type": "execute_result"
    }
   ],
   "source": [
    "events"
   ]
  },
  {
   "cell_type": "markdown",
   "metadata": {},
   "source": [
    "# Import processor\n",
    "\n",
    "## Re-run this cell to reload the processor after editing"
   ]
  },
  {
   "cell_type": "code",
   "execution_count": 7,
   "metadata": {},
   "outputs": [
    {
     "data": {
      "text/plain": [
       "<module 'HNLprocessor.HNLproc_4' from '../HNLprocessor/HNLproc_4.py'>"
      ]
     },
     "execution_count": 7,
     "metadata": {},
     "output_type": "execute_result"
    }
   ],
   "source": [
    "import importlib\n",
    "import HNLprocessor.HNLproc_4\n",
    "importlib.reload(HNLprocessor.HNLproc_4)\n"
   ]
  },
  {
   "cell_type": "markdown",
   "metadata": {},
   "source": [
    "# Construct and run the processor"
   ]
  },
  {
   "cell_type": "code",
   "execution_count": 9,
   "metadata": {},
   "outputs": [],
   "source": [
    "from HNLprocessor.HNLproc_4 import MyProcessor"
   ]
  },
  {
   "cell_type": "code",
   "execution_count": 11,
   "metadata": {},
   "outputs": [],
   "source": [
    "isElectronChannel=True\n",
    "saveSkim=False\n",
    "debug=False\n",
    "\n",
    "proc = MyProcessor(isElectronChannel)\n"
   ]
  },
  {
   "cell_type": "code",
   "execution_count": 15,
   "metadata": {},
   "outputs": [],
   "source": [
    "# run the processor\n",
    "output = proc.process(events)"
   ]
  },
  {
   "cell_type": "code",
   "execution_count": 16,
   "metadata": {},
   "outputs": [
    {
     "data": {
      "text/plain": [
       "{'cutflow': <Hist (dataset,region,cutflow) instance at 0x7f447894f750>,\n",
       " 'nCluster': <Hist (dataset,region,nCluster) instance at 0x7f447894f7d0>,\n",
       " 'nCluster_dt': <Hist (dataset,region,nCluster) instance at 0x7f447894f850>,\n",
       " 'nCluster_n-1': <Hist (dataset,nCluster) instance at 0x7f447894f8d0>,\n",
       " 'accept': <Hist (dataset,gLLP_csc,gLLP_dt) instance at 0x7f447894f950>,\n",
       " 'ClusterSize': <Hist (dataset,region,ClusterSize) instance at 0x7f447894f9d0>,\n",
       " 'ClusterTime': <Hist (dataset,region,ClusterTime) instance at 0x7f447894fa50>,\n",
       " 'ClusterEta': <Hist (dataset,region,ClusterEta) instance at 0x7f447894fad0>,\n",
       " 'ClusterAvgStation10': <Hist (dataset,region,ClusterAvgStation10) instance at 0x7f447894fb50>,\n",
       " 'ClusterNStation10': <Hist (dataset,region,ClusterNStation10) instance at 0x7f447894fbd0>,\n",
       " 'ClusterME11_12': <Hist (dataset,region,ClusterME11_12) instance at 0x7f447894fc50>,\n",
       " 'ClusterTimeSpread': <Hist (dataset,region,ClusterTimeSpread) instance at 0x7f447894fcd0>,\n",
       " 'ClusterJetVetoPt': <Hist (dataset,region,ClusterJetVetoPt) instance at 0x7f447894fd50>,\n",
       " 'ClusterMuonVetoPt': <Hist (dataset,region,ClusterMuonVetoPt) instance at 0x7f447894fdd0>,\n",
       " 'dphi_cluster_csc': <Hist (dataset,region,ClusterSize,dphi_lep,dphi_MET) instance at 0x7f447894fe50>,\n",
       " 'dphi_cluster_syst': <Hist (dataset,syst,ClusterSize,dphi_lep) instance at 0x7f447894fed0>,\n",
       " 'ClusterSize_dt': <Hist (dataset,region,ClusterSize) instance at 0x7f447894ff50>,\n",
       " 'ClusterTime_dt': <Hist (dataset,region,ClusterBx) instance at 0x7f447894ffd0>,\n",
       " 'ClusterEta_dt': <Hist (dataset,region,ClusterEta) instance at 0x7f447894a090>,\n",
       " 'ClusterAvgStation10_dt': <Hist (dataset,region,ClusterAvgStation10) instance at 0x7f447894a110>,\n",
       " 'ClusterNStation10_dt': <Hist (dataset,region,ClusterNStation10) instance at 0x7f447894a190>,\n",
       " 'ClusterMB1_dt': <Hist (dataset,region,ClusterMB1) instance at 0x7f447894a210>,\n",
       " 'ClusterJetVetoPt_dt': <Hist (dataset,region,ClusterJetVetoPt) instance at 0x7f447894a290>,\n",
       " 'ClusterMuonVetoPt_dt': <Hist (dataset,region,ClusterMuonVetoPt) instance at 0x7f447894a310>,\n",
       " 'Cluster_runNum_dt': <Hist (dataset,region,ClusterSize,RunNumber) instance at 0x7f447894a390>,\n",
       " 'Cluster_rz_dt': <Hist (dataset,region,R,Z) instance at 0x7f447894a410>,\n",
       " 'Cluster_phi_dt': <Hist (dataset,region,phi) instance at 0x7f447894a490>,\n",
       " 'dphi_cluster_dt': <Hist (dataset,region,ClusterSize,dphi_lep,dphi_MET) instance at 0x7f447894a510>,\n",
       " 'dphi_cluster_dt_syst': <Hist (dataset,syst,ClusterSize,dphi_lep) instance at 0x7f447894a590>,\n",
       " 'nLeptons': <Hist (dataset,nLeptons) instance at 0x7f447894a610>,\n",
       " 'elePt': <Hist (dataset,elePt) instance at 0x7f447894a690>,\n",
       " 'eleEta': <Hist (dataset,eleEta) instance at 0x7f447894a710>,\n",
       " 'muPt': <Hist (dataset,muPt) instance at 0x7f447894a790>,\n",
       " 'muEta': <Hist (dataset,muEta) instance at 0x7f447894a810>,\n",
       " 'nJets': <Hist (dataset,nJets) instance at 0x7f447894a890>,\n",
       " 'jetPt': <Hist (dataset,region,jetPt) instance at 0x7f447894a910>,\n",
       " 'jetMet_dPhi': <Hist (dataset,jetMet_dPhi) instance at 0x7f447894a990>,\n",
       " 'metXYCorr': <Hist (dataset,region,metXYCorr) instance at 0x7f447894aa10>,\n",
       " 'MT': <Hist (dataset,region,MT) instance at 0x7f447894aa90>,\n",
       " 'nPU': <Hist (dataset,nPU) instance at 0x7f447894ab10>,\n",
       " 'nPU_noweight': <Hist (dataset,nPU) instance at 0x7f447894ab90>,\n",
       " 'gWPt': <Hist (dataset,gWPt) instance at 0x7f447894ac10>,\n",
       " 'gWPt_noweight': <Hist (dataset,gWPt) instance at 0x7f447894ac90>,\n",
       " 'glepdPhi': <Hist (dataset,region,gLLP_lepdPhi) instance at 0x7f447894ad10>,\n",
       " 'gLepPt': <Hist (dataset,gLepPt) instance at 0x7f447894ad90>,\n",
       " 'gLLP_e': <Hist (dataset,region,gLLP_e) instance at 0x7f447894ae10>,\n",
       " 'gLLP_pt': <Hist (dataset,region,gLLP_pt) instance at 0x7f447894ae90>,\n",
       " 'gLLP_eta': <Hist (dataset,region,gLLP_eta) instance at 0x7f447894af10>,\n",
       " 'llp_cls_z': <Hist (dataset,llp_z,cluster_z) instance at 0x7f447894af90>,\n",
       " 'llp_cls_eff_z': <Hist (dataset,selection,z) instance at 0x7f447894b050>,\n",
       " 'llp_cls_eff_r': <Hist (dataset,selection,r) instance at 0x7f447894b0d0>,\n",
       " 'llp_cls_eff_e': <Hist (dataset,selection,e) instance at 0x7f447894b150>,\n",
       " 'llp_cls_dt_eff_z': <Hist (dataset,selection,z) instance at 0x7f447894b1d0>,\n",
       " 'llp_cls_dt_eff_r': <Hist (dataset,selection,r) instance at 0x7f447894b250>,\n",
       " 'llp_cls_dt_eff_e': <Hist (dataset,selection,e) instance at 0x7f447894b2d0>,\n",
       " 'sumw': defaultdict_accumulator(float, {'HNL': 15931.0})}"
      ]
     },
     "execution_count": 16,
     "metadata": {},
     "output_type": "execute_result"
    }
   ],
   "source": [
    "## all the histograms\n",
    "output"
   ]
  },
  {
   "cell_type": "markdown",
   "metadata": {},
   "source": [
    "# Build the objects used in processor"
   ]
  },
  {
   "cell_type": "code",
   "execution_count": 20,
   "metadata": {},
   "outputs": [],
   "source": [
    "from  HNLprocessor.HNLproc_4 import MyProcessor,buildMask,delta_r_pairs\n",
    "\n",
    "llp  = proc.buildLLP(events)\n",
    "muons = util.pack(events,\"muon\")\n",
    "good_lep,ele,tight_muons = proc.buildGoodLeptons(events)\n",
    "\n",
    "cluster = proc.buildCSCcluster(events,good_lep)\n",
    "dt_cluster = proc.buildDTcluster(events,good_lep)\n",
    "\n",
    "clusterMasks = proc.selectCSCcluster(cluster,events)\n",
    "dt_clusterMasks = proc.selectDTcluster(dt_cluster,events)\n"
   ]
  },
  {
   "cell_type": "code",
   "execution_count": 24,
   "metadata": {},
   "outputs": [],
   "source": [
    "preselections = ['trigger_ele','MET',\"METfilters\",'good_lepton']\n",
    "\n",
    "m =   proc.buildSelectionMasks(events,good_lep,cluster,clusterMasks,dt_cluster,dt_clusterMasks) \n",
    "\n",
    "pre_selection = buildMask(m,preselections)\n"
   ]
  },
  {
   "cell_type": "code",
   "execution_count": null,
   "metadata": {},
   "outputs": [],
   "source": []
  }
 ],
 "metadata": {
  "kernelspec": {
   "display_name": "Python 3",
   "language": "python",
   "name": "python3"
  },
  "language_info": {
   "codemirror_mode": {
    "name": "ipython",
    "version": 3
   },
   "file_extension": ".py",
   "mimetype": "text/x-python",
   "name": "python",
   "nbconvert_exporter": "python",
   "pygments_lexer": "ipython3",
   "version": "3.7.6"
  }
 },
 "nbformat": 4,
 "nbformat_minor": 2
}
