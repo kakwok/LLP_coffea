{
 "cells": [
  {
   "cell_type": "code",
   "execution_count": 2,
   "metadata": {},
   "outputs": [],
   "source": [
    "import coffea\n",
    "import coffea.hist as hist\n",
    "import mplhep as hep\n",
    "import numpy as np\n",
    "\n",
    "import awkward as ak\n",
    "import uproot\n",
    "\n",
    "import matplotlib.pyplot as plt\n",
    "import mplhep as hep"
   ]
  },
  {
   "cell_type": "markdown",
   "metadata": {},
   "source": [
    "## Why columnar?\n",
    "\n",
    "Short ans: Vector instruction makes implicit loop faster and more readible code"
   ]
  },
  {
   "cell_type": "code",
   "execution_count": 3,
   "metadata": {},
   "outputs": [
    {
     "name": "stdout",
     "output_type": "stream",
     "text": [
      "35\n",
      "35\n"
     ]
    }
   ],
   "source": [
    "data = np.array([1,2,3,4,1,4,20])\n",
    "#Explicit loop\n",
    "s=0\n",
    "for d in data:\n",
    "    s+= d\n",
    "print(s)\n",
    "\n",
    "#Implicit loop\n",
    "print(np.sum(data))"
   ]
  },
  {
   "cell_type": "markdown",
   "metadata": {},
   "source": [
    "### Our event data is an irregular array"
   ]
  },
  {
   "cell_type": "code",
   "execution_count": 5,
   "metadata": {},
   "outputs": [],
   "source": [
    "data = [\n",
    "    [45,45,10],\n",
    "    [40,30],\n",
    "    [45,45,10,1,4],\n",
    "]"
   ]
  },
  {
   "cell_type": "code",
   "execution_count": 15,
   "metadata": {},
   "outputs": [
    {
     "data": {
      "text/plain": [
       "[45, 45, 10, 40, 30, 45, 45, 10, 1, 4]"
      ]
     },
     "execution_count": 15,
     "metadata": {},
     "output_type": "execute_result"
    }
   ],
   "source": [
    "np.sum(np.array(data))"
   ]
  },
  {
   "cell_type": "code",
   "execution_count": 16,
   "metadata": {},
   "outputs": [
    {
     "data": {
      "text/plain": [
       "<Array [100, 70, 105] type='3 * int64'>"
      ]
     },
     "execution_count": 16,
     "metadata": {},
     "output_type": "execute_result"
    }
   ],
   "source": [
    "ak.sum(ak.Array(data),axis=1)"
   ]
  },
  {
   "cell_type": "code",
   "execution_count": 17,
   "metadata": {},
   "outputs": [
    {
     "data": {
      "text/plain": [
       "<Array [45, 40, 45] type='3 * ?int64'>"
      ]
     },
     "execution_count": 17,
     "metadata": {},
     "output_type": "execute_result"
    }
   ],
   "source": [
    "ak.firsts(data)"
   ]
  },
  {
   "cell_type": "code",
   "execution_count": 21,
   "metadata": {},
   "outputs": [
    {
     "data": {
      "text/plain": [
       "[[True, True, False], [True, True], [True, True, False, False, False]]"
      ]
     },
     "execution_count": 21,
     "metadata": {},
     "output_type": "execute_result"
    }
   ],
   "source": [
    "ak_data = ak.Array(data)\n",
    "ak.to_list(ak_data>20)"
   ]
  },
  {
   "cell_type": "code",
   "execution_count": 22,
   "metadata": {},
   "outputs": [
    {
     "data": {
      "text/plain": [
       "<Array [[45, 45], [40, 30], [45, 45]] type='3 * var * int64'>"
      ]
     },
     "execution_count": 22,
     "metadata": {},
     "output_type": "execute_result"
    }
   ],
   "source": [
    "ak_data[ak_data>20]"
   ]
  },
  {
   "cell_type": "code",
   "execution_count": 24,
   "metadata": {},
   "outputs": [
    {
     "data": {
      "text/plain": [
       "<Array [90, 70, 90] type='3 * int64'>"
      ]
     },
     "execution_count": 24,
     "metadata": {},
     "output_type": "execute_result"
    }
   ],
   "source": [
    "ak.sum(ak_data[ak_data>20],axis=1)"
   ]
  },
  {
   "cell_type": "markdown",
   "metadata": {},
   "source": [
    "## Reading HNL tree"
   ]
  },
  {
   "cell_type": "code",
   "execution_count": 2,
   "metadata": {},
   "outputs": [],
   "source": [
    "def getLZDF(f,nEvents=-1):\n",
    "    events_raw = uproot.open(f)['MuonSystem']\n",
    "    df = coffea.processor.LazyDataFrame(events_raw,entrystop=nEvents)\n",
    "    start,stop = df._branchargs['entry_start'],df._branchargs['entry_stop']\n",
    "    events = uproot.lazy(df._tree)\n",
    "    events = events[start:stop]\n",
    "    return events"
   ]
  },
  {
   "cell_type": "code",
   "execution_count": 4,
   "metadata": {},
   "outputs": [],
   "source": [
    "events= getLZDF(\"/uscms/home/kkwok/lpclonglived/HNL/skim/HNL_electronType_mHNL4p0_pl1000/HeavyNeutralLepton_Tree_0.root\",10)"
   ]
  },
  {
   "cell_type": "code",
   "execution_count": 5,
   "metadata": {},
   "outputs": [
    {
     "data": {
      "text/plain": [
       "['runNum',\n",
       " 'lumiSec',\n",
       " 'evtNum',\n",
       " 'mH',\n",
       " 'mX',\n",
       " 'ctau',\n",
       " 'ZCategory',\n",
       " 'category',\n",
       " 'npv',\n",
       " 'npu',\n",
       " 'weight',\n",
       " 'scaleWeights',\n",
       " 'lepOverallSF',\n",
       " 'sf_facScaleUp',\n",
       " 'sf_facScaleDown',\n",
       " 'sf_renScaleUp',\n",
       " 'sf_renScaleDown',\n",
       " 'sf_facRenScaleUp',\n",
       " 'sf_facRenScaleDown',\n",
       " 'metSF',\n",
       " 'pileupWeight',\n",
       " 'pileupWeightUp',\n",
       " 'pileupWeightDown',\n",
       " 'Flag_HBHENoiseFilter',\n",
       " 'Flag_BadPFMuonFilter',\n",
       " 'Flag_HBHEIsoNoiseFilter',\n",
       " 'Flag_CSCTightHaloFilter',\n",
       " 'Flag_globalSuperTightHalo2016Filter',\n",
       " 'Flag_goodVertices',\n",
       " 'Flag_ecalBadCalibFilter',\n",
       " 'Flag_BadChargedCandidateFilter',\n",
       " 'Flag_eeBadScFilter',\n",
       " 'Flag_all',\n",
       " 'Flag2_HBHENoiseFilter',\n",
       " 'Flag2_HBHEIsoNoiseFilter',\n",
       " 'Flag2_BadPFMuonFilter',\n",
       " 'Flag2_globalSuperTightHalo2016Filter',\n",
       " 'Flag2_globalTightHalo2016Filter',\n",
       " 'Flag2_BadChargedCandidateFilter',\n",
       " 'Flag2_EcalDeadCellTriggerPrimitiveFilter',\n",
       " 'Flag2_ecalBadCalibFilter',\n",
       " 'Flag2_eeBadScFilter',\n",
       " 'Flag2_all',\n",
       " 'EE_prefiring',\n",
       " 'rho',\n",
       " 'met',\n",
       " 'metNoMu',\n",
       " 'metPhi',\n",
       " 'metXYCorr',\n",
       " 'metPhiXYCorr',\n",
       " 'HT',\n",
       " 'jetMet_dPhi',\n",
       " 'jetMet_dPhiMin',\n",
       " 'jetMet_dPhiMin4',\n",
       " 'metJESUp',\n",
       " 'metJESDown',\n",
       " 'metPhiJESUp',\n",
       " 'metPhiJESDown',\n",
       " 'metJESUpSF',\n",
       " 'metJESDownSF',\n",
       " 'metEENoise',\n",
       " 'metPhiEENoise',\n",
       " 'metHEM',\n",
       " 'metPhiHEM',\n",
       " 'metEENoiseXYCorr',\n",
       " 'metPhiEENoiseXYCorr',\n",
       " 'metHEMXYCorr',\n",
       " 'metPhiHEMXYCorr',\n",
       " 'genMetPtTrue',\n",
       " 'genMetPhiTrue',\n",
       " 'genMetPtCalo',\n",
       " 'genMetPhiCalo',\n",
       " 'gWPt',\n",
       " 'gLepId',\n",
       " 'gLepPt',\n",
       " 'gLepE',\n",
       " 'gLepEta',\n",
       " 'gLepPhi',\n",
       " 'gHiggsPt',\n",
       " 'gHiggsE',\n",
       " 'gHiggsEta',\n",
       " 'gHiggsPhi',\n",
       " 'nCscRechits',\n",
       " 'nEarlyCscRechits',\n",
       " 'nLateCscRechits',\n",
       " 'nEarly2CscRechits',\n",
       " 'nLate2CscRechits',\n",
       " 'nCscRings',\n",
       " 'nCscPositiveYRechits',\n",
       " 'nCscNegativeYRechits',\n",
       " 'cscPosTpeak',\n",
       " 'cscNegTpeak',\n",
       " 'nCscRechitsChamberPlus11',\n",
       " 'nCscRechitsChamberPlus12',\n",
       " 'nCscRechitsChamberPlus13',\n",
       " 'nCscRechitsChamberPlus21',\n",
       " 'nCscRechitsChamberPlus22',\n",
       " 'nCscRechitsChamberPlus31',\n",
       " 'nCscRechitsChamberPlus32',\n",
       " 'nCscRechitsChamberPlus41',\n",
       " 'nCscRechitsChamberPlus42',\n",
       " 'nCscRechitsChamberMinus11',\n",
       " 'nCscRechitsChamberMinus12',\n",
       " 'nCscRechitsChamberMinus13',\n",
       " 'nCscRechitsChamberMinus21',\n",
       " 'nCscRechitsChamberMinus22',\n",
       " 'nCscRechitsChamberMinus31',\n",
       " 'nCscRechitsChamberMinus32',\n",
       " 'nCscRechitsChamberMinus41',\n",
       " 'nCscRechitsChamberMinus42',\n",
       " 'nDTRechits',\n",
       " 'nDtRings',\n",
       " 'nDTPositiveYRechits',\n",
       " 'nDTNegativeYRechits',\n",
       " 'nDTRechitsChamberMinus12',\n",
       " 'nDTRechitsChamberMinus11',\n",
       " 'nDTRechitsChamber10',\n",
       " 'nDTRechitsChamberPlus11',\n",
       " 'nDTRechitsChamberPlus12',\n",
       " 'nDTRechitsChamberMinus22',\n",
       " 'nDTRechitsChamberMinus21',\n",
       " 'nDTRechitsChamber20',\n",
       " 'nDTRechitsChamberPlus21',\n",
       " 'nDTRechitsChamberPlus22',\n",
       " 'nDTRechitsChamberMinus32',\n",
       " 'nDTRechitsChamberMinus31',\n",
       " 'nDTRechitsChamber30',\n",
       " 'nDTRechitsChamberPlus31',\n",
       " 'nDTRechitsChamberPlus32',\n",
       " 'nDTRechitsChamberMinus42',\n",
       " 'nDTRechitsChamberMinus41',\n",
       " 'nDTRechitsChamber40',\n",
       " 'nDTRechitsChamberPlus41',\n",
       " 'nDTRechitsChamberPlus42',\n",
       " 'nDtWheels25',\n",
       " 'nDtStations25',\n",
       " 'nDTRechitsWheelMinus2',\n",
       " 'nDTRechitsWheelMinus1',\n",
       " 'nDTRechitsWheel0',\n",
       " 'nDTRechitsWheelPlus1',\n",
       " 'nDTRechitsWheelPlus2',\n",
       " 'nDTRechitsStation1',\n",
       " 'nDTRechitsStation2',\n",
       " 'nDTRechitsStation3',\n",
       " 'nDTRechitsStation4',\n",
       " 'nDtRechitClusters',\n",
       " 'dtRechitClusterX',\n",
       " 'dtRechitClusterY',\n",
       " 'dtRechitClusterZ',\n",
       " 'dtRechitClusterWheel',\n",
       " 'dtRechitClusterPhi',\n",
       " 'dtRechitClusterEta',\n",
       " 'dtRechitClusterJetVetoPt',\n",
       " 'dtRechitClusterJetVetoEta',\n",
       " 'dtRechitClusterJetVetoPhi',\n",
       " 'dtRechitClusterJetVetoE',\n",
       " 'dtRechitClusterMuonVetoPt',\n",
       " 'dtRechitClusterMuonVetoE',\n",
       " 'dtRechitClusterMuonVetoPhi',\n",
       " 'dtRechitClusterMuonVetoEta',\n",
       " 'dtRechitClusterMuonVetoLooseId',\n",
       " 'dtRechitClusterMuonVetoGlobal',\n",
       " 'dtRechitClusterSize',\n",
       " 'dtRechitClusterNStation10',\n",
       " 'dtRechitClusterAvgStation10',\n",
       " 'dtRechitClusterMaxStation',\n",
       " 'dtRechitClusterMaxStationRatio',\n",
       " 'dtRechitClusterNChamber',\n",
       " 'dtRechitClusterMaxChamber',\n",
       " 'dtRechitClusterMaxChamberRatio',\n",
       " 'dtRechitClusterNSegmentStation1',\n",
       " 'dtRechitClusterNSegmentStation2',\n",
       " 'dtRechitClusterNSegmentStation3',\n",
       " 'dtRechitClusterNSegmentStation4',\n",
       " 'dtRechitClusterMetEENoise_dPhi',\n",
       " 'dtRechitCluster_match_gParticle_Id',\n",
       " 'dtRechitCluster_match_gParticle_Pt',\n",
       " 'dtRechitCluster_match_gParticle_Eta',\n",
       " 'dtRechitCluster_match_gParticle_Phi',\n",
       " 'dtRechitCluster_match_gParticle_E',\n",
       " 'dtRechitCluster_match_gParticle_Status',\n",
       " 'dtRechitCluster_match_gParticle_MotherId',\n",
       " 'dtRechitCluster_match_gParticle_deltaR',\n",
       " 'dtRechitCluster_match_gLLP',\n",
       " 'dtRechitCluster_match_gLLP_minDeltaR',\n",
       " 'dtRechitCluster_match_gLLP_eta',\n",
       " 'dtRechitCluster_match_gLLP_phi',\n",
       " 'dtRechitCluster_match_gLLP_decay_x',\n",
       " 'dtRechitCluster_match_gLLP_decay_y',\n",
       " 'dtRechitCluster_match_gLLP_decay_z',\n",
       " 'dtRechitCluster_match_gLLP_ctau',\n",
       " 'dtRechitCluster_match_gLLP_beta',\n",
       " 'dtRechitCluster_match_gLLP_csc',\n",
       " 'dtRechitCluster_match_gLLP_dt',\n",
       " 'dtRechitCluster_match_gLLP_e',\n",
       " 'dtRechitCluster_match_gLLP_pt',\n",
       " 'dtRechitClusterLep_dPhi',\n",
       " 'dtRechitCluster_match_RPCBx_dPhi0p5',\n",
       " 'dtRechitCluster_match_RB1_0p4',\n",
       " 'dtRechitCluster_match_RB1_dPhi0p5',\n",
       " 'dtRechitCluster_match_RPChits_dPhi0p5',\n",
       " 'dtRechitCluster_match_MB1hits_0p4',\n",
       " 'dtRechitCluster_match_MB1hits_0p5',\n",
       " 'dtRechitCluster_match_MB1hits_cosmics_plus',\n",
       " 'dtRechitCluster_match_MB1hits_cosmics_minus',\n",
       " 'nCscRechitClusters3',\n",
       " 'cscRechitCluster3_match_Me1112_0p4',\n",
       " 'cscRechitCluster3_match_Me1112_0p6',\n",
       " 'cscRechitCluster3_match_Me1112_0p8',\n",
       " 'cscRechitCluster3_match_Me11_0p4',\n",
       " 'cscRechitCluster3_match_Me11_0p6',\n",
       " 'cscRechitCluster3_match_Me11_0p8',\n",
       " 'cscRechitCluster3_match_Me12_0p4',\n",
       " 'cscRechitCluster3_match_Me12_0p6',\n",
       " 'cscRechitCluster3_match_Me12_0p8',\n",
       " 'cscRechitCluster3_match_gParticle_id',\n",
       " 'cscRechitCluster3_match_gParticle',\n",
       " 'cscRechitCluster3_match_gParticle_minDeltaR',\n",
       " 'cscRechitCluster3_match_gParticle_index',\n",
       " 'cscRechitCluster3_match_gParticle_eta',\n",
       " 'cscRechitCluster3_match_gParticle_phi',\n",
       " 'cscRechitCluster3_match_gParticle_E',\n",
       " 'cscRechitCluster3_match_gParticle_pt',\n",
       " 'cscRechitCluster3_match_gParticle_MotherId',\n",
       " 'cscRechitCluster3_match_gLLP',\n",
       " 'cscRechitCluster3_match_gLLP_minDeltaR',\n",
       " 'cscRechitCluster3_match_gLLP_index',\n",
       " 'cscRechitCluster3_match_gLLP_eta',\n",
       " 'cscRechitCluster3_match_gLLP_phi',\n",
       " 'cscRechitCluster3_match_gLLP_decay_r',\n",
       " 'cscRechitCluster3_match_gLLP_decay_x',\n",
       " 'cscRechitCluster3_match_gLLP_decay_y',\n",
       " 'cscRechitCluster3_match_gLLP_decay_z',\n",
       " 'cscRechitCluster3_match_gLLP_ctau',\n",
       " 'cscRechitCluster3_match_gLLP_beta',\n",
       " 'cscRechitCluster3_match_gLLP_csc',\n",
       " 'cscRechitCluster3_match_gLLP_e',\n",
       " 'cscRechitCluster3_match_gLLP_pt',\n",
       " 'cscRechitCluster3_match_gLLP_lepdPhi',\n",
       " 'cscRechitCluster3_match_gLLP_daughter0_deltaR',\n",
       " 'cscRechitCluster3_match_gLLP_daughter1_deltaR',\n",
       " 'cscRechitCluster3_match_gLLP_daughter2_deltaR',\n",
       " 'cscRechitCluster3_match_gLLP_daughter3_deltaR',\n",
       " 'cscRechitCluster3X',\n",
       " 'cscRechitCluster3Y',\n",
       " 'cscRechitCluster3Z',\n",
       " 'cscRechitCluster3Time',\n",
       " 'cscRechitCluster3TimeWire',\n",
       " 'cscRechitCluster3TimeWirePruned',\n",
       " 'cscRechitCluster3TimeTotal',\n",
       " 'cscRechitCluster3TimeSpread',\n",
       " 'cscRechitCluster3TimeTotalSpread',\n",
       " 'cscRechitCluster3TimeTotalSpreadPruned',\n",
       " 'cscRechitCluster3TimeWireSpread',\n",
       " 'cscRechitCluster3GenMuonDeltaR',\n",
       " 'cscRechitCluster3XYSpread',\n",
       " 'cscRechitCluster3MajorAxis',\n",
       " 'cscRechitCluster3MinorAxis',\n",
       " 'cscRechitCluster3EtaPhiSpread',\n",
       " 'cscRechitCluster3PhiSpread',\n",
       " 'cscRechitCluster3EtaSpread',\n",
       " 'cscRechitCluster3DeltaRSpread',\n",
       " 'cscRechitCluster3XSpread',\n",
       " 'cscRechitCluster3RSpread',\n",
       " 'cscRechitCluster3YSpread',\n",
       " 'cscRechitCluster3ZSpread',\n",
       " 'cscRechitCluster3Phi',\n",
       " 'cscRechitCluster3Eta',\n",
       " 'cscRechitCluster3JetVetoPt',\n",
       " 'cscRechitCluster3JetVetoEta',\n",
       " 'cscRechitCluster3JetVetoPhi',\n",
       " 'cscRechitCluster3JetVetoE',\n",
       " 'cscRechitCluster3GenJetVetoPt',\n",
       " 'cscRechitCluster3GenJetVetoE',\n",
       " 'cscRechitCluster3MuonVetoPt',\n",
       " 'cscRechitCluster3MuonVetoE',\n",
       " 'cscRechitCluster3MuonVetoPhi',\n",
       " 'cscRechitCluster3MuonVetoEta',\n",
       " 'cscRechitCluster3JetVetoElectronEnergyFraction',\n",
       " 'cscRechitCluster3JetVetoPhotonEnergyFraction',\n",
       " 'cscRechitCluster3JetVetoChargedHadronEnergyFraction',\n",
       " 'cscRechitCluster3JetVetoNeutralHadronEnergyFraction',\n",
       " 'cscRechitCluster3JetVetoMuonEnergyFraction',\n",
       " 'cscRechitCluster3JetVetoPt_0p6',\n",
       " 'cscRechitCluster3JetVetoPt_0p8',\n",
       " 'cscRechitCluster3JetVetoE_0p6',\n",
       " 'cscRechitCluster3JetVetoE_0p8',\n",
       " 'cscRechitCluster3MuonVetoPt_0p6',\n",
       " 'cscRechitCluster3MuonVetoPt_0p8',\n",
       " 'cscRechitCluster3MuonVetoE_0p6',\n",
       " 'cscRechitCluster3MuonVetoE_0p8',\n",
       " 'cscRechitCluster3MuonVetoLooseIso',\n",
       " 'cscRechitCluster3MuonVetoTightIso',\n",
       " 'cscRechitCluster3MuonVetoVTightIso',\n",
       " 'cscRechitCluster3MuonVetoVVTightIso',\n",
       " 'cscRechitCluster3MuonVetoTightId',\n",
       " 'cscRechitCluster3MuonVetoLooseId',\n",
       " 'cscRechitCluster3MuonVetoIso',\n",
       " 'cscRechitCluster3IsoMuonVetoPt',\n",
       " 'cscRechitCluster3IsoMuonVetoE',\n",
       " 'cscRechitCluster3IsoMuonVetoPhi',\n",
       " 'cscRechitCluster3IsoMuonVetoEta',\n",
       " 'cscRechitCluster3GenMuonVetoPt',\n",
       " 'cscRechitCluster3MuonVetoType',\n",
       " 'cscRechitCluster3GenMuonVetoE',\n",
       " 'cscRechitCluster3GenMuonVetoProdX',\n",
       " 'cscRechitCluster3GenMuonVetoProdY',\n",
       " 'cscRechitCluster3GenMuonVetoProdZ',\n",
       " 'cscRechitCluster3GenMuonVetoLLPDist',\n",
       " 'cscRechitCluster3GenMuonVetoLLPIndex',\n",
       " 'cscRechitCluster3ZLep1',\n",
       " 'cscRechitCluster3ZLep2',\n",
       " 'cscRechitCluster3ZLep1Tag',\n",
       " 'cscRechitCluster3ZLep2Tag',\n",
       " 'cscRechitCluster3ZLep1Id',\n",
       " 'cscRechitCluster3ZLep2Id',\n",
       " 'cscRechitCluster3ZLep1LooseIso',\n",
       " 'cscRechitCluster3ZLep1TightIso',\n",
       " 'cscRechitCluster3ZLep1VTightIso',\n",
       " 'cscRechitCluster3ZLep1VVTightIso',\n",
       " 'cscRechitCluster3ZLep1TightId',\n",
       " 'cscRechitCluster3ZLep2LooseIso',\n",
       " 'cscRechitCluster3ZLep2TightIso',\n",
       " 'cscRechitCluster3ZLep2VTightIso',\n",
       " 'cscRechitCluster3ZLep2VVTightIso',\n",
       " 'cscRechitCluster3ZLep2TightId',\n",
       " 'cscRechitCluster3Size',\n",
       " 'cscRechitCluster3Me11Ratio',\n",
       " 'cscRechitCluster3Me12Ratio',\n",
       " 'cscRechitCluster3NStation',\n",
       " 'cscRechitCluster3NStation5',\n",
       " 'cscRechitCluster3NStation10',\n",
       " 'cscRechitCluster3NStation10perc',\n",
       " 'cscRechitCluster3AvgStation',\n",
       " 'cscRechitCluster3AvgStation5',\n",
       " 'cscRechitCluster3AvgStation10',\n",
       " 'cscRechitCluster3AvgStation10perc',\n",
       " 'cscRechitCluster3MaxStation',\n",
       " 'cscRechitCluster3MaxStationRatio',\n",
       " 'cscRechitCluster3NChamber',\n",
       " 'cscRechitCluster3MaxChamber',\n",
       " 'cscRechitCluster3MaxChamberRatio',\n",
       " 'cscRechitCluster3NRechitChamberPlus11',\n",
       " 'cscRechitCluster3NRechitChamberPlus12',\n",
       " 'cscRechitCluster3NRechitChamberPlus13',\n",
       " 'cscRechitCluster3NRechitChamberPlus21',\n",
       " 'cscRechitCluster3NRechitChamberPlus22',\n",
       " 'cscRechitCluster3NRechitChamberPlus31',\n",
       " 'cscRechitCluster3NRechitChamberPlus32',\n",
       " 'cscRechitCluster3NRechitChamberPlus41',\n",
       " 'cscRechitCluster3NRechitChamberPlus42',\n",
       " 'cscRechitCluster3NRechitChamberMinus11',\n",
       " 'cscRechitCluster3NRechitChamberMinus12',\n",
       " 'cscRechitCluster3NRechitChamberMinus13',\n",
       " 'cscRechitCluster3NRechitChamberMinus21',\n",
       " 'cscRechitCluster3NRechitChamberMinus22',\n",
       " 'cscRechitCluster3NRechitChamberMinus31',\n",
       " 'cscRechitCluster3NRechitChamberMinus32',\n",
       " 'cscRechitCluster3NRechitChamberMinus41',\n",
       " 'cscRechitCluster3NRechitChamberMinus42',\n",
       " 'cscRechitCluster3Met_dPhi',\n",
       " 'cscRechitCluster3MetXYCorr_dPhi',\n",
       " 'cscRechitCluster3_match_cscRechits_0p4',\n",
       " 'cscRechitCluster3MetHEM_dPhi',\n",
       " 'cscRechitCluster3MetHEMXYCorr_dPhi',\n",
       " 'cscRechitCluster3MetEENoise_dPhi',\n",
       " 'cscRechitCluster3MetEENoiseXYCorr_dPhi',\n",
       " 'cscRechitCluster3MetJesUp_dPhi',\n",
       " 'cscRechitCluster3MetJesDown_dPhi',\n",
       " 'cscRechitCluster3_match_cscSeg_0p4',\n",
       " 'cscRechitCluster3_match_ME11Seg_0p4',\n",
       " 'cscRechitCluster3_match_ME12Seg_0p4',\n",
       " 'cscRechitCluster3_match_cscSeg_0p6',\n",
       " 'cscRechitCluster3_match_ME11Seg_0p6',\n",
       " 'cscRechitCluster3_match_ME12Seg_0p6',\n",
       " 'cscRechitCluster3_match_dtRechits_phi0p2',\n",
       " 'cscRechitCluster3_match_dtRechits_0p4',\n",
       " 'cscRechitCluster3_match_MB1_0p4',\n",
       " 'cscRechitCluster3_match_dtRechits_0p6',\n",
       " 'cscRechitCluster3_match_MB1_0p6',\n",
       " 'cscRechitCluster3_match_dtSeg_0p4',\n",
       " 'cscRechitCluster3_match_MB1Seg_0p4',\n",
       " 'cscRechitCluster3_match_dtSeg_0p6',\n",
       " 'cscRechitCluster3_match_MB1Seg_0p6',\n",
       " 'cscRechitCluster3_match_RB1_0p4',\n",
       " 'cscRechitCluster3_match_RE12_0p4',\n",
       " 'cscRechitCluster3_match_RB1_0p6',\n",
       " 'cscRechitCluster3_match_RE12_0p6',\n",
       " 'cscRechitCluster3_match_highEta_0p4',\n",
       " 'cscRechitCluster3_match_highEta_0p6',\n",
       " 'cscRechitCluster3_match_highEta_0p8',\n",
       " 'cscRechitCluster3_match_cluster_dR',\n",
       " 'cscRechitCluster3_match_cluster_index',\n",
       " 'gLLP_multiplicity',\n",
       " 'gLLP_eta',\n",
       " 'gLLP_phi',\n",
       " 'gLLP_csc',\n",
       " 'gLLP_dt',\n",
       " 'gLLP_beta',\n",
       " 'gLLP_e',\n",
       " 'gLLP_pt',\n",
       " 'gLLP_lepdPhi',\n",
       " 'gLLP_ctau',\n",
       " 'gLLP_decay_vertex_r',\n",
       " 'gLLP_decay_vertex_x',\n",
       " 'gLLP_decay_vertex_y',\n",
       " 'gLLP_decay_vertex_z',\n",
       " 'gLLP_daughter_deltaR',\n",
       " 'gLLP_daughter_pt',\n",
       " 'gLLP_daughter_id',\n",
       " 'gLLP_daughter_eta',\n",
       " 'gLLP_daughter_phi',\n",
       " 'gLLP_daughter_e',\n",
       " 'gLLP_daughter_mass',\n",
       " 'nMuons',\n",
       " 'muonPt',\n",
       " 'muonEta',\n",
       " 'muonPhi',\n",
       " 'nLeptons',\n",
       " 'lepE',\n",
       " 'lepPt',\n",
       " 'lepEta',\n",
       " 'lepPhi',\n",
       " 'lepPdgId',\n",
       " 'lepDZ',\n",
       " 'lepPassId',\n",
       " 'lepFromZ',\n",
       " 'lepEff',\n",
       " 'lepSF',\n",
       " 'lepTriggerSF',\n",
       " 'lepTightIdSF',\n",
       " 'lepLooseIdSF',\n",
       " 'lepTightIsoSF',\n",
       " 'lepLooseIsoSF',\n",
       " 'lepTriggerMCEfficiency',\n",
       " 'lepTightIdMCEfficiency',\n",
       " 'lepLooseIdMCEfficiency',\n",
       " 'lepTightIsoMCEfficiency',\n",
       " 'lepLooseIsoMCEfficiency',\n",
       " 'lepTag',\n",
       " 'lepPassLooseIso',\n",
       " 'lepPassTightIso',\n",
       " 'lepPassVTightIso',\n",
       " 'lepPassVVTightIso',\n",
       " 'lepPassVetoId',\n",
       " 'MT',\n",
       " 'ZMass1',\n",
       " 'ZMass',\n",
       " 'ZPt',\n",
       " 'ZEta',\n",
       " 'ZPhi',\n",
       " 'ZleptonIndex1',\n",
       " 'ZleptonIndex2',\n",
       " 'nJets',\n",
       " 'jetE',\n",
       " 'jetPt',\n",
       " 'jetEta',\n",
       " 'jetPhi',\n",
       " 'jetTime',\n",
       " 'jetPassId',\n",
       " 'jetPtJESUp',\n",
       " 'jetPtJESDown',\n",
       " 'jetEJESUp',\n",
       " 'jetEJESDown',\n",
       " 'JecUnc',\n",
       " 'jet_match_genJet_pt',\n",
       " 'jet_match_genJet_index',\n",
       " 'jet_match_genJet_minDeltaR',\n",
       " 'jetTightPassId',\n",
       " 'HLTDecision',\n",
       " 'SingleMuonTrigger',\n",
       " 'SingleEleTrigger',\n",
       " 'SingleLepTrigger',\n",
       " 'jetMuonEnergyFraction',\n",
       " 'jetElectronEnergyFraction',\n",
       " 'jetPhotonEnergyFraction',\n",
       " 'jetChargedHadronEnergyFraction',\n",
       " 'jetNeutralHadronEnergyFraction']"
      ]
     },
     "execution_count": 5,
     "metadata": {},
     "output_type": "execute_result"
    }
   ],
   "source": [
    "events.fields"
   ]
  },
  {
   "cell_type": "markdown",
   "metadata": {},
   "source": [
    "## Reading HNL tree: method 2"
   ]
  },
  {
   "cell_type": "code",
   "execution_count": null,
   "metadata": {},
   "outputs": [],
   "source": [
    "events = uproot.lazy(\"/uscms/home/kkwok/lpclonglived/HNL/HNL_electronType_mHNL4p0_pl1000/HeavyNeutralLepton_Tree_1*.root:MuonSystem\")\n"
   ]
  },
  {
   "cell_type": "markdown",
   "metadata": {},
   "source": [
    "### Reading HNL tree: method 3"
   ]
  },
  {
   "cell_type": "code",
   "execution_count": null,
   "metadata": {},
   "outputs": [],
   "source": []
  },
  {
   "cell_type": "code",
   "execution_count": 31,
   "metadata": {},
   "outputs": [
    {
     "data": {
      "text/plain": [
       "<Array [68.3, 55.2, 29.4, ... 45.5, 89.7, 13.2] type='13264 * float32'>"
      ]
     },
     "execution_count": 31,
     "metadata": {},
     "output_type": "execute_result"
    }
   ],
   "source": [
    "events.metXYCorr"
   ]
  },
  {
   "cell_type": "code",
   "execution_count": 35,
   "metadata": {},
   "outputs": [
    {
     "data": {
      "text/plain": [
       "<Array [[0], [0], [0], ... [0], [0], [0]] type='9 * 1 * float32'>"
      ]
     },
     "execution_count": 35,
     "metadata": {},
     "output_type": "execute_result"
    }
   ],
   "source": [
    "events.gLLP_csc[1:10]"
   ]
  },
  {
   "cell_type": "code",
   "execution_count": 36,
   "metadata": {},
   "outputs": [],
   "source": [
    "llp=ak.zip({\n",
    "    'pt':events.gLLP_pt,\n",
    "    'e':events.gLLP_e,\n",
    "    'z':events.gLLP_decay_vertex_z ,\n",
    "    'r':events.gLLP_decay_vertex_r,\n",
    "})  "
   ]
  },
  {
   "cell_type": "code",
   "execution_count": 37,
   "metadata": {},
   "outputs": [
    {
     "data": {
      "text/plain": [
       "<Array [[325], [142], ... [414], [37.6]] type='13264 * var * float32'>"
      ]
     },
     "execution_count": 37,
     "metadata": {},
     "output_type": "execute_result"
    }
   ],
   "source": [
    "llp.e"
   ]
  },
  {
   "cell_type": "code",
   "execution_count": 47,
   "metadata": {},
   "outputs": [
    {
     "data": {
      "text/plain": [
       "<matplotlib.legend.Legend at 0x7fac0c245710>"
      ]
     },
     "execution_count": 47,
     "metadata": {},
     "output_type": "execute_result"
    },
    {
     "data": {
      "image/png": "[encoded data removed]",
      "text/plain": [
       "<Figure size 576x432 with 1 Axes>"
      ]
     },
     "metadata": {
      "needs_background": "light"
     },
     "output_type": "display_data"
    }
   ],
   "source": [
    "h = hist.Hist(\"Count\",\n",
    "             hist.Bin(\"energy\",\"LLP E[GeV]\",100,0,1200))\n",
    "\n",
    "fig, axs = plt.subplots(1,figsize=(8,6))\n",
    "\n",
    "h.fill(energy=ak.flatten(llp.e))\n",
    "\n",
    "hist.plot1d(h,ax=axs)\n",
    "axs.legend([\"mHNL=4GeV, ct=1m\"])"
   ]
  },
  {
   "cell_type": "code",
   "execution_count": null,
   "metadata": {},
   "outputs": [],
   "source": []
  }
 ],
 "metadata": {
  "kernelspec": {
   "display_name": "coffeaenv",
   "language": "python",
   "name": "coffeaenv"
  },
  "language_info": {
   "codemirror_mode": {
    "name": "ipython",
    "version": 3
   },
   "file_extension": ".py",
   "mimetype": "text/x-python",
   "name": "python",
   "nbconvert_exporter": "python",
   "pygments_lexer": "ipython3",
   "version": "3.7.6"
  }
 },
 "nbformat": 4,
 "nbformat_minor": 2
}
