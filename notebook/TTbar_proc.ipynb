{
 "cells": [
  {
   "cell_type": "code",
   "execution_count": 1,
   "metadata": {},
   "outputs": [
    {
     "name": "stderr",
     "output_type": "stream",
     "text": [
      "/uscms/home/kkwok/work/LLP/CMSSW_10_6_20/src/llp_analyzer/coffeaenv/lib/python3.7/site-packages/coffea/util.py:154: FutureWarning: In coffea version v0.8.0 (target date: 31 Dec 2022), this will be an error.\n",
      "(Set coffea.deprecations_as_errors = True to get a stack trace now.)\n",
      "ImportError: coffea.hist is deprecated\n",
      "  warnings.warn(message, FutureWarning)\n"
     ]
    }
   ],
   "source": [
    "import numpy as np\n",
    "import matplotlib.pyplot as plt\n",
    "import awkward as ak\n",
    "from coffea import hist, processor\n",
    "import uproot\n",
    "# register our candidate behaviors\n",
    "from coffea.nanoevents.methods import candidate\n",
    "from coffea.nanoevents.methods import vector\n",
    "from coffea.nanoevents import NanoEventsFactory, BaseSchema, TreeMakerSchema\n",
    "\n",
    "from coffea.analysis_tools import Weights, PackedSelection\n",
    "\n",
    "import sys\n",
    "sys.path.insert(0,\"../\")\n",
    "# from corrections import add_pileup_weight\n",
    "\n",
    "import pickle\n",
    "import glob\n",
    "\n",
    "ak.behavior.update(candidate.behavior)\n",
    "\n",
    "from HNLprocessor.HNLproc_4 import MyProcessor\n",
    "from  HNLprocessor.histograms import *\n",
    "\n",
    "class TTbarProcessor(MyProcessor):\n",
    "    def __init__(self,isElectronChannel=True,saveSkim=False,debug=False):\n",
    "        super().__init__(isElectronChannel,saveSkim,debug)\n",
    "        hdict={\n",
    "             \"nbjet\": hist.Hist(\"Events\",dataset_axis,region_axis,\n",
    "                hist.Bin(\"nbjet\", \"nbjet\", 4, 0, 4)\n",
    "            ),     \n",
    "        }\n",
    "        histograms.update(hdict)\n",
    "        self._accumulator = processor.dict_accumulator( histograms )\n",
    "        \n",
    "    def process(self, events):\n",
    "        output = self.accumulator.identity()\n",
    "\n",
    "        llp      = self.buildLLP(events)\n",
    "        good_lep,ele,muons = self.buildGoodLeptons(events) \n",
    "        cluster = self.buildCSCcluster(events,good_lep)\n",
    "        dt_cluster = self.buildDTcluster(events,good_lep)\n",
    "        clusterMasks = self.selectCSCcluster(cluster,events)\n",
    "        dt_clusterMasks = self.selectDTcluster(dt_cluster,events)\n",
    "        \n",
    "        selectionMasks =   {}\n",
    "\n",
    "        selectionMasks['Acceptance_csc']   =ak.firsts(events.gLLP_csc)==1\n",
    "        selectionMasks['Acceptance_dt']=ak.firsts(events.gLLP_dt)==1\n",
    "        selectionMasks['METfilters']   =events.Flag2_all==True\n",
    "        selectionMasks['trigger_ele']  =events.SingleEleTrigger==True\n",
    "        selectionMasks['trigger_mu']   =events.SingleMuonTrigger==True\n",
    "        selectionMasks['good_lepton']  =ak.num(good_lep,axis=1)==1\n",
    "        selectionMasks['MET']          =events.metEENoise>=30\n",
    "        selectionMasks['n_cls']        =ak.num(cluster,axis=1)>=1\n",
    "        selectionMasks['n_cls_dt']     =ak.num(dt_cluster,axis=1)>=1\n",
    "\n",
    "        CSC_sel_ABCD = [\"ME11_12_veto\",\"jetVeto\",\"muonVeto\",\"MB1seg_veto\",\"RB1_veto\",\n",
    "                        \"IntimeCut\",\"timeSpreadCut\",\"ClusterID\"]\n",
    "        CSC_sel_OOT  = [\"ME11_12_veto\",\"jetVeto\",\"muonVeto\",\"MB1seg_veto\",\"RB1_veto\",\n",
    "                        \"OOT_timeCut\",\"timeSpreadCut\",\"ClusterID\"]\n",
    "\n",
    "        selectionMasks['cls_ABCD']  = self.buildMask(clusterMasks,CSC_sel_ABCD)\n",
    "        selectionMasks['cls_OOT']   = self.buildMask(clusterMasks,CSC_sel_OOT)\n",
    "\n",
    "        DT_sel_OOT   = [\"dt_MB1veto\",\"dt_jetVeto\",\"dt_muonVeto\",\"dt_RPC\",\"dt_MB1adj\",\"dt_OOT\"]\n",
    "        DT_sel_ABCD  = [\"dt_MB1veto\",\"dt_jetVeto\",\"dt_muonVeto\",\"dt_RPC\",\"dt_MB1adj\",\"dt_time\"]\n",
    "        DT_sel_vetos = [\"dt_MB1veto\",\"dt_jetVeto\",\"dt_muonVeto\",\"dt_RPC\",\"dt_MB1adj\"]\n",
    "\n",
    "        selectionMasks['dt_cls_OOT']  = buildMask(dt_clusterMasks,DT_sel_OOT)\n",
    "        selectionMasks['dt_cls_ABCD']  = buildMask(dt_clusterMasks,DT_sel_ABCD)\n",
    "        selectionMasks['dt_JetMuStaVeto'] =  buildMask(dt_clusterMasks,DT_sel_vetos)\n",
    "\n",
    "        \n",
    "        \n",
    "        if self.isElectronChannel:\n",
    "            preselections = ['trigger_ele','MET',\"METfilters\",'good_lepton']\n",
    "        else:\n",
    "            preselections = ['trigger_mu','MET',\"METfilters\",'good_lepton']\n",
    "        return output\n",
    "\n",
    "    def postprocess(self, accumulator):\n",
    "        return accumulator"
   ]
  },
  {
   "cell_type": "code",
   "execution_count": 2,
   "metadata": {},
   "outputs": [],
   "source": [
    "dataset_axis = hist.Cat(\"dataset\", \"Dataset\")\n",
    "region_axis  = hist.Cat(\"region\", \"region\")\n",
    "hdict={\n",
    " \"nbjet\": hist.Hist(\"Events\",dataset_axis,region_axis,\n",
    "    hist.Bin(\"nbjet\", \"nbjet\", 4, 0, 4)\n",
    "),     \n",
    "}"
   ]
  },
  {
   "cell_type": "code",
   "execution_count": 31,
   "metadata": {},
   "outputs": [
    {
     "data": {
      "text/plain": [
       "<Hist (dataset,region,nbjet) instance at 0x7f78a1cf80d0>"
      ]
     },
     "execution_count": 31,
     "metadata": {},
     "output_type": "execute_result"
    }
   ],
   "source": [
    "histograms[\"nbjet\"]"
   ]
  },
  {
   "cell_type": "code",
   "execution_count": 2,
   "metadata": {},
   "outputs": [
    {
     "data": {
      "text/plain": [
       "<__main__.TTbarProcessor at 0x7f78a1c5e150>"
      ]
     },
     "execution_count": 2,
     "metadata": {},
     "output_type": "execute_result"
    }
   ],
   "source": [
    "def getLZDF(f,nEvents=-1,treename=\"MuonSystem\"):\n",
    "    events_raw = uproot.open(f)[treename]\n",
    "    df = coffea.processor.LazyDataFrame(events_raw,entrystop=nEvents)\n",
    "    start,stop = df._branchargs['entry_start'],df._branchargs['entry_stop']\n",
    "    events = uproot.lazy(df._tree)\n",
    "    events = events[start:stop]\n",
    "    return events\n",
    "\n"
   ]
  },
  {
   "cell_type": "code",
   "execution_count": 7,
   "metadata": {},
   "outputs": [],
   "source": [
    "import importlib\n",
    "\n",
    "import HNLprocessor.TTbar_proc\n",
    "import HNLprocessor.HNLproc_4\n",
    "importlib.reload(HNLprocessor.TTbar_proc)\n",
    "importlib.reload(HNLprocessor.HNLproc_4)\n",
    "from HNLprocessor.TTbar_proc import ttbarProcessor"
   ]
  },
  {
   "cell_type": "code",
   "execution_count": null,
   "metadata": {},
   "outputs": [],
   "source": []
  },
  {
   "cell_type": "code",
   "execution_count": 98,
   "metadata": {},
   "outputs": [],
   "source": [
    "t = ttbarProcessor()"
   ]
  },
  {
   "cell_type": "code",
   "execution_count": null,
   "metadata": {},
   "outputs": [],
   "source": []
  },
  {
   "cell_type": "code",
   "execution_count": 8,
   "metadata": {
    "scrolled": false
   },
   "outputs": [
    {
     "data": {
      "application/vnd.jupyter.widget-view+json": {
       "model_id": "e1ac115d2a5c482993c79fdd1692fab7",
       "version_major": 2,
       "version_minor": 0
      },
      "text/plain": [
       "Output()"
      ]
     },
     "metadata": {},
     "output_type": "display_data"
    },
    {
     "data": {
      "text/html": [
       "<pre style=\"white-space:pre;overflow-x:auto;line-height:normal;font-family:Menlo,'DejaVu Sans Mono',consolas,'Courier New',monospace\"></pre>\n"
      ],
      "text/plain": []
     },
     "metadata": {},
     "output_type": "display_data"
    },
    {
     "data": {
      "text/html": [
       "<pre style=\"white-space:pre;overflow-x:auto;line-height:normal;font-family:Menlo,'DejaVu Sans Mono',consolas,'Courier New',monospace\"><span style=\"color: #000080; text-decoration-color: #000080; font-weight: bold\">Processing</span> <span style=\"color: #800080; text-decoration-color: #800080\">  0%</span> <span style=\"color: #3a3a3a; text-decoration-color: #3a3a3a\">━━━━━━━━━━━━━━━━━━━━━━━━━━━━━━━━━━━━━━━</span> <span style=\"color: #000080; text-decoration-color: #000080; font-weight: bold\">0/1</span> [ <span style=\"color: #808000; text-decoration-color: #808000\">0:00:00</span> &lt; <span style=\"color: #008080; text-decoration-color: #008080\">-:--:--</span> | <span style=\"color: #800000; text-decoration-color: #800000\">?</span> <span style=\"color: #800000; text-decoration-color: #800000\">chunk/s</span> ]\n",
       "</pre>\n"
      ],
      "text/plain": [
       "\u001b[1;34mProcessing\u001b[0m \u001b[35m  0%\u001b[0m \u001b[38;5;237m━━━━━━━━━━━━━━━━━━━━━━━━━━━━━━━━━━━━━━━\u001b[0m \u001b[1;34m0/1\u001b[0m [ \u001b[33m0:00:00\u001b[0m < \u001b[36m-:--:--\u001b[0m | \u001b[31m?\u001b[0m \u001b[31mchunk/s\u001b[0m ]\n"
      ]
     },
     "metadata": {},
     "output_type": "display_data"
    },
    {
     "data": {
      "text/html": [
       "<pre style=\"white-space:pre;overflow-x:auto;line-height:normal;font-family:Menlo,'DejaVu Sans Mono',consolas,'Courier New',monospace\">bjets before 101\n",
       "</pre>\n"
      ],
      "text/plain": [
       "bjets before 101\n"
      ]
     },
     "metadata": {},
     "output_type": "display_data"
    },
    {
     "data": {
      "text/html": [
       "<pre style=\"white-space:pre;overflow-x:auto;line-height:normal;font-family:Menlo,'DejaVu Sans Mono',consolas,'Courier New',monospace\">bjets after 101\n",
       "</pre>\n"
      ],
      "text/plain": [
       "bjets after 101\n"
      ]
     },
     "metadata": {},
     "output_type": "display_data"
    },
    {
     "data": {
      "text/html": [
       "<pre style=\"white-space:pre;overflow-x:auto;line-height:normal;font-family:Menlo,'DejaVu Sans Mono',consolas,'Courier New',monospace\">bjets [0, 0, 0, 0, 0, 0, 0, 0, 0, 0, 0, 0, 0, 0, ... 0, 0, 0, 1, 0, 1, 0, 0, 0, 0, 0, 0, 0]\n",
       "</pre>\n"
      ],
      "text/plain": [
       "bjets [0, 0, 0, 0, 0, 0, 0, 0, 0, 0, 0, 0, 0, 0, ... 0, 0, 0, 1, 0, 1, 0, 0, 0, 0, 0, 0, 0]\n"
      ]
     },
     "metadata": {},
     "output_type": "display_data"
    },
    {
     "data": {
      "text/html": [
       "<pre style=\"white-space:pre;overflow-x:auto;line-height:normal;font-family:Menlo,'DejaVu Sans Mono',consolas,'Courier New',monospace\">length of w 101\n",
       "</pre>\n"
      ],
      "text/plain": [
       "length of w 101\n"
      ]
     },
     "metadata": {},
     "output_type": "display_data"
    },
    {
     "data": {
      "text/html": [
       "<pre style=\"white-space:pre;overflow-x:auto;line-height:normal;font-family:Menlo,'DejaVu Sans Mono',consolas,'Courier New',monospace\">EGamma_2018A\n",
       "</pre>\n"
      ],
      "text/plain": [
       "EGamma_2018A\n"
      ]
     },
     "metadata": {},
     "output_type": "display_data"
    },
    {
     "data": {
      "text/html": [
       "<pre style=\"white-space:pre;overflow-x:auto;line-height:normal;font-family:Menlo,'DejaVu Sans Mono',consolas,'Courier New',monospace\">Weight statistics: {}\n",
       "</pre>\n"
      ],
      "text/plain": [
       "Weight statistics: {}\n"
      ]
     },
     "metadata": {},
     "output_type": "display_data"
    },
    {
     "data": {
      "text/html": [
       "<pre style=\"white-space:pre;overflow-x:auto;line-height:normal;font-family:Menlo,'DejaVu Sans Mono',consolas,'Courier New',monospace\">PreSel ['trigger_ele', 'MET', 'METfilters', 'good_lepton', 'n_bjets', 'bjet_cls_dr', \n",
       "'bjet_dt_cls_dr']\n",
       "</pre>\n"
      ],
      "text/plain": [
       "PreSel ['trigger_ele', 'MET', 'METfilters', 'good_lepton', 'n_bjets', 'bjet_cls_dr', \n",
       "'bjet_dt_cls_dr']\n"
      ]
     },
     "metadata": {},
     "output_type": "display_data"
    },
    {
     "data": {
      "text/html": [
       "<pre style=\"white-space:pre;overflow-x:auto;line-height:normal;font-family:Menlo,'DejaVu Sans Mono',consolas,'Courier New',monospace\">{'Acceptance_csc': &lt;Array [False, False, False, ... False, False] type='101 * ?bool'&gt;, \n",
       "'Acceptance_dt': &lt;Array [False, False, False, ... False, False] type='101 * ?bool'&gt;, \n",
       "'METfilters': &lt;Array [True, True, True, ... True, True, True] type='101 * bool'&gt;, \n",
       "'trigger_ele': &lt;Array [True, False, True, ... True, True] type='101 * bool'&gt;, 'trigger_mu': \n",
       "&lt;Array [False, False, False, ... False, False] type='101 * bool'&gt;, 'good_lepton': &lt;Array \n",
       "[False, False, True, ... True, False] type='101 * bool'&gt;, 'MET': &lt;Array [True, True, True, \n",
       "... True, True] type='101 * bool'&gt;, 'n_cls': &lt;Array [False, False, False, ... False, False] \n",
       "type='101 * bool'&gt;, 'n_cls_dt': &lt;Array [False, False, False, ... False, False] type='101 * \n",
       "bool'&gt;, 'n_bjets': &lt;Array [False, False, False, ... False, False] type='101 * bool'&gt;, \n",
       "'cls_ABCD': &lt;Array [[], [], [], [], ... [], [], [], []] type='101 * var * bool'&gt;, 'cls_OOT': \n",
       "&lt;Array [[], [], [], [], ... [], [], [], []] type='101 * var * bool'&gt;, 'cls_negME11': &lt;Array \n",
       "[[], [], [], [], ... [], [], [], []] type='101 * var * bool'&gt;, 'dt_cls_OOT': &lt;Array [[], [], \n",
       "[], [], ... [], [], [], []] type='101 * var * bool'&gt;, 'dt_cls_ABCD': &lt;Array [[], [], [], [], \n",
       "... [], [], [], []] type='101 * var * bool'&gt;, 'dt_cls_negMB1': &lt;Array [[], [], [], [], ... \n",
       "[], [], [], []] type='101 * var * bool'&gt;, 'bjet_cls_dr': &lt;Array [True, True, True, ... True, \n",
       "True, True] type='101 * bool'&gt;, 'bjet_dt_cls_dr': &lt;Array [True, True, True, ... True, True, \n",
       "True] type='101 * bool'&gt;}\n",
       "</pre>\n"
      ],
      "text/plain": [
       "{'Acceptance_csc': <Array [False, False, False, ... False, False] type='101 * ?bool'>, \n",
       "'Acceptance_dt': <Array [False, False, False, ... False, False] type='101 * ?bool'>, \n",
       "'METfilters': <Array [True, True, True, ... True, True, True] type='101 * bool'>, \n",
       "'trigger_ele': <Array [True, False, True, ... True, True] type='101 * bool'>, 'trigger_mu': \n",
       "<Array [False, False, False, ... False, False] type='101 * bool'>, 'good_lepton': <Array \n",
       "[False, False, True, ... True, False] type='101 * bool'>, 'MET': <Array [True, True, True, \n",
       "... True, True] type='101 * bool'>, 'n_cls': <Array [False, False, False, ... False, False] \n",
       "type='101 * bool'>, 'n_cls_dt': <Array [False, False, False, ... False, False] type='101 * \n",
       "bool'>, 'n_bjets': <Array [False, False, False, ... False, False] type='101 * bool'>, \n",
       "'cls_ABCD': <Array [[], [], [], [], ... [], [], [], []] type='101 * var * bool'>, 'cls_OOT': \n",
       "<Array [[], [], [], [], ... [], [], [], []] type='101 * var * bool'>, 'cls_negME11': <Array \n",
       "[[], [], [], [], ... [], [], [], []] type='101 * var * bool'>, 'dt_cls_OOT': <Array [[], [], \n",
       "[], [], ... [], [], [], []] type='101 * var * bool'>, 'dt_cls_ABCD': <Array [[], [], [], [], \n",
       "... [], [], [], []] type='101 * var * bool'>, 'dt_cls_negMB1': <Array [[], [], [], [], ... \n",
       "[], [], [], []] type='101 * var * bool'>, 'bjet_cls_dr': <Array [True, True, True, ... True, \n",
       "True, True] type='101 * bool'>, 'bjet_dt_cls_dr': <Array [True, True, True, ... True, True, \n",
       "True] type='101 * bool'>}\n"
      ]
     },
     "metadata": {},
     "output_type": "display_data"
    },
    {
     "data": {
      "text/html": [
       "<pre style=\"white-space:pre;overflow-x:auto;line-height:normal;font-family:Menlo,'DejaVu Sans Mono',consolas,'Courier New',monospace\">cut before 101\n",
       "</pre>\n"
      ],
      "text/plain": [
       "cut before 101\n"
      ]
     },
     "metadata": {},
     "output_type": "display_data"
    },
    {
     "data": {
      "text/html": [
       "<pre style=\"white-space:pre;overflow-x:auto;line-height:normal;font-family:Menlo,'DejaVu Sans Mono',consolas,'Courier New',monospace\">cut after 101\n",
       "</pre>\n"
      ],
      "text/plain": [
       "cut after 101\n"
      ]
     },
     "metadata": {},
     "output_type": "display_data"
    },
    {
     "data": {
      "text/html": [
       "<pre style=\"white-space:pre;overflow-x:auto;line-height:normal;font-family:Menlo,'DejaVu Sans Mono',consolas,'Courier New',monospace\">ABCD ['trigger_ele', 'MET', 'METfilters', 'good_lepton', 'n_bjets', 'bjet_cls_dr', \n",
       "'bjet_dt_cls_dr', 'cls_ABCD']\n",
       "</pre>\n"
      ],
      "text/plain": [
       "ABCD ['trigger_ele', 'MET', 'METfilters', 'good_lepton', 'n_bjets', 'bjet_cls_dr', \n",
       "'bjet_dt_cls_dr', 'cls_ABCD']\n"
      ]
     },
     "metadata": {},
     "output_type": "display_data"
    },
    {
     "data": {
      "text/html": [
       "<pre style=\"white-space:pre;overflow-x:auto;line-height:normal;font-family:Menlo,'DejaVu Sans Mono',consolas,'Courier New',monospace\">{'Acceptance_csc': &lt;Array [False, False, False, ... False, False] type='101 * ?bool'&gt;, \n",
       "'Acceptance_dt': &lt;Array [False, False, False, ... False, False] type='101 * ?bool'&gt;, \n",
       "'METfilters': &lt;Array [True, True, True, ... True, True, True] type='101 * bool'&gt;, \n",
       "'trigger_ele': &lt;Array [True, False, True, ... True, True] type='101 * bool'&gt;, 'trigger_mu': \n",
       "&lt;Array [False, False, False, ... False, False] type='101 * bool'&gt;, 'good_lepton': &lt;Array \n",
       "[False, False, True, ... True, False] type='101 * bool'&gt;, 'MET': &lt;Array [True, True, True, \n",
       "... True, True] type='101 * bool'&gt;, 'n_cls': &lt;Array [False, False, False, ... False, False] \n",
       "type='101 * bool'&gt;, 'n_cls_dt': &lt;Array [False, False, False, ... False, False] type='101 * \n",
       "bool'&gt;, 'n_bjets': &lt;Array [False, False, False, ... False, False] type='101 * bool'&gt;, \n",
       "'cls_ABCD': &lt;Array [[], [], [], [], ... [], [], [], []] type='101 * var * bool'&gt;, 'cls_OOT': \n",
       "&lt;Array [[], [], [], [], ... [], [], [], []] type='101 * var * bool'&gt;, 'cls_negME11': &lt;Array \n",
       "[[], [], [], [], ... [], [], [], []] type='101 * var * bool'&gt;, 'dt_cls_OOT': &lt;Array [[], [], \n",
       "[], [], ... [], [], [], []] type='101 * var * bool'&gt;, 'dt_cls_ABCD': &lt;Array [[], [], [], [], \n",
       "... [], [], [], []] type='101 * var * bool'&gt;, 'dt_cls_negMB1': &lt;Array [[], [], [], [], ... \n",
       "[], [], [], []] type='101 * var * bool'&gt;, 'bjet_cls_dr': &lt;Array [True, True, True, ... True, \n",
       "True, True] type='101 * bool'&gt;, 'bjet_dt_cls_dr': &lt;Array [True, True, True, ... True, True, \n",
       "True] type='101 * bool'&gt;}\n",
       "</pre>\n"
      ],
      "text/plain": [
       "{'Acceptance_csc': <Array [False, False, False, ... False, False] type='101 * ?bool'>, \n",
       "'Acceptance_dt': <Array [False, False, False, ... False, False] type='101 * ?bool'>, \n",
       "'METfilters': <Array [True, True, True, ... True, True, True] type='101 * bool'>, \n",
       "'trigger_ele': <Array [True, False, True, ... True, True] type='101 * bool'>, 'trigger_mu': \n",
       "<Array [False, False, False, ... False, False] type='101 * bool'>, 'good_lepton': <Array \n",
       "[False, False, True, ... True, False] type='101 * bool'>, 'MET': <Array [True, True, True, \n",
       "... True, True] type='101 * bool'>, 'n_cls': <Array [False, False, False, ... False, False] \n",
       "type='101 * bool'>, 'n_cls_dt': <Array [False, False, False, ... False, False] type='101 * \n",
       "bool'>, 'n_bjets': <Array [False, False, False, ... False, False] type='101 * bool'>, \n",
       "'cls_ABCD': <Array [[], [], [], [], ... [], [], [], []] type='101 * var * bool'>, 'cls_OOT': \n",
       "<Array [[], [], [], [], ... [], [], [], []] type='101 * var * bool'>, 'cls_negME11': <Array \n",
       "[[], [], [], [], ... [], [], [], []] type='101 * var * bool'>, 'dt_cls_OOT': <Array [[], [], \n",
       "[], [], ... [], [], [], []] type='101 * var * bool'>, 'dt_cls_ABCD': <Array [[], [], [], [], \n",
       "... [], [], [], []] type='101 * var * bool'>, 'dt_cls_negMB1': <Array [[], [], [], [], ... \n",
       "[], [], [], []] type='101 * var * bool'>, 'bjet_cls_dr': <Array [True, True, True, ... True, \n",
       "True, True] type='101 * bool'>, 'bjet_dt_cls_dr': <Array [True, True, True, ... True, True, \n",
       "True] type='101 * bool'>}\n"
      ]
     },
     "metadata": {},
     "output_type": "display_data"
    },
    {
     "data": {
      "text/html": [
       "<pre style=\"white-space:pre;overflow-x:auto;line-height:normal;font-family:Menlo,'DejaVu Sans Mono',consolas,'Courier New',monospace\">cut before 101\n",
       "</pre>\n"
      ],
      "text/plain": [
       "cut before 101\n"
      ]
     },
     "metadata": {},
     "output_type": "display_data"
    },
    {
     "data": {
      "text/html": [
       "<pre style=\"white-space:pre;overflow-x:auto;line-height:normal;font-family:Menlo,'DejaVu Sans Mono',consolas,'Courier New',monospace\">cut after 101\n",
       "</pre>\n"
      ],
      "text/plain": [
       "cut after 101\n"
      ]
     },
     "metadata": {},
     "output_type": "display_data"
    },
    {
     "data": {
      "text/html": [
       "<pre style=\"white-space:pre;overflow-x:auto;line-height:normal;font-family:Menlo,'DejaVu Sans Mono',consolas,'Courier New',monospace\">ABCD_dt ['trigger_ele', 'MET', 'METfilters', 'good_lepton', 'n_bjets', 'bjet_cls_dr', \n",
       "'bjet_dt_cls_dr', 'dt_cls_ABCD']\n",
       "</pre>\n"
      ],
      "text/plain": [
       "ABCD_dt ['trigger_ele', 'MET', 'METfilters', 'good_lepton', 'n_bjets', 'bjet_cls_dr', \n",
       "'bjet_dt_cls_dr', 'dt_cls_ABCD']\n"
      ]
     },
     "metadata": {},
     "output_type": "display_data"
    },
    {
     "data": {
      "text/html": [
       "<pre style=\"white-space:pre;overflow-x:auto;line-height:normal;font-family:Menlo,'DejaVu Sans Mono',consolas,'Courier New',monospace\">{'Acceptance_csc': &lt;Array [False, False, False, ... False, False] type='101 * ?bool'&gt;, \n",
       "'Acceptance_dt': &lt;Array [False, False, False, ... False, False] type='101 * ?bool'&gt;, \n",
       "'METfilters': &lt;Array [True, True, True, ... True, True, True] type='101 * bool'&gt;, \n",
       "'trigger_ele': &lt;Array [True, False, True, ... True, True] type='101 * bool'&gt;, 'trigger_mu': \n",
       "&lt;Array [False, False, False, ... False, False] type='101 * bool'&gt;, 'good_lepton': &lt;Array \n",
       "[False, False, True, ... True, False] type='101 * bool'&gt;, 'MET': &lt;Array [True, True, True, \n",
       "... True, True] type='101 * bool'&gt;, 'n_cls': &lt;Array [False, False, False, ... False, False] \n",
       "type='101 * bool'&gt;, 'n_cls_dt': &lt;Array [False, False, False, ... False, False] type='101 * \n",
       "bool'&gt;, 'n_bjets': &lt;Array [False, False, False, ... False, False] type='101 * bool'&gt;, \n",
       "'cls_ABCD': &lt;Array [[], [], [], [], ... [], [], [], []] type='101 * var * bool'&gt;, 'cls_OOT': \n",
       "&lt;Array [[], [], [], [], ... [], [], [], []] type='101 * var * bool'&gt;, 'cls_negME11': &lt;Array \n",
       "[[], [], [], [], ... [], [], [], []] type='101 * var * bool'&gt;, 'dt_cls_OOT': &lt;Array [[], [], \n",
       "[], [], ... [], [], [], []] type='101 * var * bool'&gt;, 'dt_cls_ABCD': &lt;Array [[], [], [], [], \n",
       "... [], [], [], []] type='101 * var * bool'&gt;, 'dt_cls_negMB1': &lt;Array [[], [], [], [], ... \n",
       "[], [], [], []] type='101 * var * bool'&gt;, 'bjet_cls_dr': &lt;Array [True, True, True, ... True, \n",
       "True, True] type='101 * bool'&gt;, 'bjet_dt_cls_dr': &lt;Array [True, True, True, ... True, True, \n",
       "True] type='101 * bool'&gt;}\n",
       "</pre>\n"
      ],
      "text/plain": [
       "{'Acceptance_csc': <Array [False, False, False, ... False, False] type='101 * ?bool'>, \n",
       "'Acceptance_dt': <Array [False, False, False, ... False, False] type='101 * ?bool'>, \n",
       "'METfilters': <Array [True, True, True, ... True, True, True] type='101 * bool'>, \n",
       "'trigger_ele': <Array [True, False, True, ... True, True] type='101 * bool'>, 'trigger_mu': \n",
       "<Array [False, False, False, ... False, False] type='101 * bool'>, 'good_lepton': <Array \n",
       "[False, False, True, ... True, False] type='101 * bool'>, 'MET': <Array [True, True, True, \n",
       "... True, True] type='101 * bool'>, 'n_cls': <Array [False, False, False, ... False, False] \n",
       "type='101 * bool'>, 'n_cls_dt': <Array [False, False, False, ... False, False] type='101 * \n",
       "bool'>, 'n_bjets': <Array [False, False, False, ... False, False] type='101 * bool'>, \n",
       "'cls_ABCD': <Array [[], [], [], [], ... [], [], [], []] type='101 * var * bool'>, 'cls_OOT': \n",
       "<Array [[], [], [], [], ... [], [], [], []] type='101 * var * bool'>, 'cls_negME11': <Array \n",
       "[[], [], [], [], ... [], [], [], []] type='101 * var * bool'>, 'dt_cls_OOT': <Array [[], [], \n",
       "[], [], ... [], [], [], []] type='101 * var * bool'>, 'dt_cls_ABCD': <Array [[], [], [], [], \n",
       "... [], [], [], []] type='101 * var * bool'>, 'dt_cls_negMB1': <Array [[], [], [], [], ... \n",
       "[], [], [], []] type='101 * var * bool'>, 'bjet_cls_dr': <Array [True, True, True, ... True, \n",
       "True, True] type='101 * bool'>, 'bjet_dt_cls_dr': <Array [True, True, True, ... True, True, \n",
       "True] type='101 * bool'>}\n"
      ]
     },
     "metadata": {},
     "output_type": "display_data"
    },
    {
     "data": {
      "text/html": [
       "<pre style=\"white-space:pre;overflow-x:auto;line-height:normal;font-family:Menlo,'DejaVu Sans Mono',consolas,'Courier New',monospace\">cut before 101\n",
       "</pre>\n"
      ],
      "text/plain": [
       "cut before 101\n"
      ]
     },
     "metadata": {},
     "output_type": "display_data"
    },
    {
     "data": {
      "text/html": [
       "<pre style=\"white-space:pre;overflow-x:auto;line-height:normal;font-family:Menlo,'DejaVu Sans Mono',consolas,'Courier New',monospace\">cut after 101\n",
       "</pre>\n"
      ],
      "text/plain": [
       "cut after 101\n"
      ]
     },
     "metadata": {},
     "output_type": "display_data"
    },
    {
     "data": {
      "text/html": [
       "<pre style=\"white-space:pre;overflow-x:auto;line-height:normal;font-family:Menlo,'DejaVu Sans Mono',consolas,'Courier New',monospace\">ABCD_negME11 ['trigger_ele', 'MET', 'METfilters', 'good_lepton', 'n_bjets', 'bjet_cls_dr', \n",
       "'bjet_dt_cls_dr', 'cls_negME11']\n",
       "</pre>\n"
      ],
      "text/plain": [
       "ABCD_negME11 ['trigger_ele', 'MET', 'METfilters', 'good_lepton', 'n_bjets', 'bjet_cls_dr', \n",
       "'bjet_dt_cls_dr', 'cls_negME11']\n"
      ]
     },
     "metadata": {},
     "output_type": "display_data"
    },
    {
     "data": {
      "text/html": [
       "<pre style=\"white-space:pre;overflow-x:auto;line-height:normal;font-family:Menlo,'DejaVu Sans Mono',consolas,'Courier New',monospace\">{'Acceptance_csc': &lt;Array [False, False, False, ... False, False] type='101 * ?bool'&gt;, \n",
       "'Acceptance_dt': &lt;Array [False, False, False, ... False, False] type='101 * ?bool'&gt;, \n",
       "'METfilters': &lt;Array [True, True, True, ... True, True, True] type='101 * bool'&gt;, \n",
       "'trigger_ele': &lt;Array [True, False, True, ... True, True] type='101 * bool'&gt;, 'trigger_mu': \n",
       "&lt;Array [False, False, False, ... False, False] type='101 * bool'&gt;, 'good_lepton': &lt;Array \n",
       "[False, False, True, ... True, False] type='101 * bool'&gt;, 'MET': &lt;Array [True, True, True, \n",
       "... True, True] type='101 * bool'&gt;, 'n_cls': &lt;Array [False, False, False, ... False, False] \n",
       "type='101 * bool'&gt;, 'n_cls_dt': &lt;Array [False, False, False, ... False, False] type='101 * \n",
       "bool'&gt;, 'n_bjets': &lt;Array [False, False, False, ... False, False] type='101 * bool'&gt;, \n",
       "'cls_ABCD': &lt;Array [[], [], [], [], ... [], [], [], []] type='101 * var * bool'&gt;, 'cls_OOT': \n",
       "&lt;Array [[], [], [], [], ... [], [], [], []] type='101 * var * bool'&gt;, 'cls_negME11': &lt;Array \n",
       "[[], [], [], [], ... [], [], [], []] type='101 * var * bool'&gt;, 'dt_cls_OOT': &lt;Array [[], [], \n",
       "[], [], ... [], [], [], []] type='101 * var * bool'&gt;, 'dt_cls_ABCD': &lt;Array [[], [], [], [], \n",
       "... [], [], [], []] type='101 * var * bool'&gt;, 'dt_cls_negMB1': &lt;Array [[], [], [], [], ... \n",
       "[], [], [], []] type='101 * var * bool'&gt;, 'bjet_cls_dr': &lt;Array [True, True, True, ... True, \n",
       "True, True] type='101 * bool'&gt;, 'bjet_dt_cls_dr': &lt;Array [True, True, True, ... True, True, \n",
       "True] type='101 * bool'&gt;}\n",
       "</pre>\n"
      ],
      "text/plain": [
       "{'Acceptance_csc': <Array [False, False, False, ... False, False] type='101 * ?bool'>, \n",
       "'Acceptance_dt': <Array [False, False, False, ... False, False] type='101 * ?bool'>, \n",
       "'METfilters': <Array [True, True, True, ... True, True, True] type='101 * bool'>, \n",
       "'trigger_ele': <Array [True, False, True, ... True, True] type='101 * bool'>, 'trigger_mu': \n",
       "<Array [False, False, False, ... False, False] type='101 * bool'>, 'good_lepton': <Array \n",
       "[False, False, True, ... True, False] type='101 * bool'>, 'MET': <Array [True, True, True, \n",
       "... True, True] type='101 * bool'>, 'n_cls': <Array [False, False, False, ... False, False] \n",
       "type='101 * bool'>, 'n_cls_dt': <Array [False, False, False, ... False, False] type='101 * \n",
       "bool'>, 'n_bjets': <Array [False, False, False, ... False, False] type='101 * bool'>, \n",
       "'cls_ABCD': <Array [[], [], [], [], ... [], [], [], []] type='101 * var * bool'>, 'cls_OOT': \n",
       "<Array [[], [], [], [], ... [], [], [], []] type='101 * var * bool'>, 'cls_negME11': <Array \n",
       "[[], [], [], [], ... [], [], [], []] type='101 * var * bool'>, 'dt_cls_OOT': <Array [[], [], \n",
       "[], [], ... [], [], [], []] type='101 * var * bool'>, 'dt_cls_ABCD': <Array [[], [], [], [], \n",
       "... [], [], [], []] type='101 * var * bool'>, 'dt_cls_negMB1': <Array [[], [], [], [], ... \n",
       "[], [], [], []] type='101 * var * bool'>, 'bjet_cls_dr': <Array [True, True, True, ... True, \n",
       "True, True] type='101 * bool'>, 'bjet_dt_cls_dr': <Array [True, True, True, ... True, True, \n",
       "True] type='101 * bool'>}\n"
      ]
     },
     "metadata": {},
     "output_type": "display_data"
    },
    {
     "data": {
      "text/html": [
       "<pre style=\"white-space:pre;overflow-x:auto;line-height:normal;font-family:Menlo,'DejaVu Sans Mono',consolas,'Courier New',monospace\">cut before 101\n",
       "</pre>\n"
      ],
      "text/plain": [
       "cut before 101\n"
      ]
     },
     "metadata": {},
     "output_type": "display_data"
    },
    {
     "data": {
      "text/html": [
       "<pre style=\"white-space:pre;overflow-x:auto;line-height:normal;font-family:Menlo,'DejaVu Sans Mono',consolas,'Courier New',monospace\">cut after 101\n",
       "</pre>\n"
      ],
      "text/plain": [
       "cut after 101\n"
      ]
     },
     "metadata": {},
     "output_type": "display_data"
    },
    {
     "data": {
      "text/html": [
       "<pre style=\"white-space:pre;overflow-x:auto;line-height:normal;font-family:Menlo,'DejaVu Sans Mono',consolas,'Courier New',monospace\">ABCD_negMB1 ['trigger_ele', 'MET', 'METfilters', 'good_lepton', 'n_bjets', 'bjet_cls_dr', \n",
       "'bjet_dt_cls_dr', 'dt_cls_negMB1']\n",
       "</pre>\n"
      ],
      "text/plain": [
       "ABCD_negMB1 ['trigger_ele', 'MET', 'METfilters', 'good_lepton', 'n_bjets', 'bjet_cls_dr', \n",
       "'bjet_dt_cls_dr', 'dt_cls_negMB1']\n"
      ]
     },
     "metadata": {},
     "output_type": "display_data"
    },
    {
     "data": {
      "text/html": [
       "<pre style=\"white-space:pre;overflow-x:auto;line-height:normal;font-family:Menlo,'DejaVu Sans Mono',consolas,'Courier New',monospace\">{'Acceptance_csc': &lt;Array [False, False, False, ... False, False] type='101 * ?bool'&gt;, \n",
       "'Acceptance_dt': &lt;Array [False, False, False, ... False, False] type='101 * ?bool'&gt;, \n",
       "'METfilters': &lt;Array [True, True, True, ... True, True, True] type='101 * bool'&gt;, \n",
       "'trigger_ele': &lt;Array [True, False, True, ... True, True] type='101 * bool'&gt;, 'trigger_mu': \n",
       "&lt;Array [False, False, False, ... False, False] type='101 * bool'&gt;, 'good_lepton': &lt;Array \n",
       "[False, False, True, ... True, False] type='101 * bool'&gt;, 'MET': &lt;Array [True, True, True, \n",
       "... True, True] type='101 * bool'&gt;, 'n_cls': &lt;Array [False, False, False, ... False, False] \n",
       "type='101 * bool'&gt;, 'n_cls_dt': &lt;Array [False, False, False, ... False, False] type='101 * \n",
       "bool'&gt;, 'n_bjets': &lt;Array [False, False, False, ... False, False] type='101 * bool'&gt;, \n",
       "'cls_ABCD': &lt;Array [[], [], [], [], ... [], [], [], []] type='101 * var * bool'&gt;, 'cls_OOT': \n",
       "&lt;Array [[], [], [], [], ... [], [], [], []] type='101 * var * bool'&gt;, 'cls_negME11': &lt;Array \n",
       "[[], [], [], [], ... [], [], [], []] type='101 * var * bool'&gt;, 'dt_cls_OOT': &lt;Array [[], [], \n",
       "[], [], ... [], [], [], []] type='101 * var * bool'&gt;, 'dt_cls_ABCD': &lt;Array [[], [], [], [], \n",
       "... [], [], [], []] type='101 * var * bool'&gt;, 'dt_cls_negMB1': &lt;Array [[], [], [], [], ... \n",
       "[], [], [], []] type='101 * var * bool'&gt;, 'bjet_cls_dr': &lt;Array [True, True, True, ... True, \n",
       "True, True] type='101 * bool'&gt;, 'bjet_dt_cls_dr': &lt;Array [True, True, True, ... True, True, \n",
       "True] type='101 * bool'&gt;}\n",
       "</pre>\n"
      ],
      "text/plain": [
       "{'Acceptance_csc': <Array [False, False, False, ... False, False] type='101 * ?bool'>, \n",
       "'Acceptance_dt': <Array [False, False, False, ... False, False] type='101 * ?bool'>, \n",
       "'METfilters': <Array [True, True, True, ... True, True, True] type='101 * bool'>, \n",
       "'trigger_ele': <Array [True, False, True, ... True, True] type='101 * bool'>, 'trigger_mu': \n",
       "<Array [False, False, False, ... False, False] type='101 * bool'>, 'good_lepton': <Array \n",
       "[False, False, True, ... True, False] type='101 * bool'>, 'MET': <Array [True, True, True, \n",
       "... True, True] type='101 * bool'>, 'n_cls': <Array [False, False, False, ... False, False] \n",
       "type='101 * bool'>, 'n_cls_dt': <Array [False, False, False, ... False, False] type='101 * \n",
       "bool'>, 'n_bjets': <Array [False, False, False, ... False, False] type='101 * bool'>, \n",
       "'cls_ABCD': <Array [[], [], [], [], ... [], [], [], []] type='101 * var * bool'>, 'cls_OOT': \n",
       "<Array [[], [], [], [], ... [], [], [], []] type='101 * var * bool'>, 'cls_negME11': <Array \n",
       "[[], [], [], [], ... [], [], [], []] type='101 * var * bool'>, 'dt_cls_OOT': <Array [[], [], \n",
       "[], [], ... [], [], [], []] type='101 * var * bool'>, 'dt_cls_ABCD': <Array [[], [], [], [], \n",
       "... [], [], [], []] type='101 * var * bool'>, 'dt_cls_negMB1': <Array [[], [], [], [], ... \n",
       "[], [], [], []] type='101 * var * bool'>, 'bjet_cls_dr': <Array [True, True, True, ... True, \n",
       "True, True] type='101 * bool'>, 'bjet_dt_cls_dr': <Array [True, True, True, ... True, True, \n",
       "True] type='101 * bool'>}\n"
      ]
     },
     "metadata": {},
     "output_type": "display_data"
    },
    {
     "data": {
      "text/html": [
       "<pre style=\"white-space:pre;overflow-x:auto;line-height:normal;font-family:Menlo,'DejaVu Sans Mono',consolas,'Courier New',monospace\">cut before 101\n",
       "</pre>\n"
      ],
      "text/plain": [
       "cut before 101\n"
      ]
     },
     "metadata": {},
     "output_type": "display_data"
    },
    {
     "data": {
      "text/html": [
       "<pre style=\"white-space:pre;overflow-x:auto;line-height:normal;font-family:Menlo,'DejaVu Sans Mono',consolas,'Courier New',monospace\">cut after 101\n",
       "</pre>\n"
      ],
      "text/plain": [
       "cut after 101\n"
      ]
     },
     "metadata": {},
     "output_type": "display_data"
    },
    {
     "data": {
      "text/html": [
       "<pre style=\"white-space:pre;overflow-x:auto;line-height:normal;font-family:Menlo,'DejaVu Sans Mono',consolas,'Courier New',monospace\"><span style=\"color: #000080; text-decoration-color: #000080; font-weight: bold\">Processing</span> <span style=\"color: #800080; text-decoration-color: #800080\">100%</span> <span style=\"color: #729c1f; text-decoration-color: #729c1f\">━━━━━━━━━━━━━━━━━━━━━━━━━━━━━━━━━━━━━━━</span> <span style=\"color: #000080; text-decoration-color: #000080; font-weight: bold\">1/1</span> [ <span style=\"color: #808000; text-decoration-color: #808000\">0:00:02</span> &lt; <span style=\"color: #008080; text-decoration-color: #008080\">0:00:00</span> | <span style=\"color: #800000; text-decoration-color: #800000\">?</span> <span style=\"color: #800000; text-decoration-color: #800000\">chunk/s</span> ]\n",
       "</pre>\n"
      ],
      "text/plain": [
       "\u001b[1;34mProcessing\u001b[0m \u001b[35m100%\u001b[0m \u001b[38;2;114;156;31m━━━━━━━━━━━━━━━━━━━━━━━━━━━━━━━━━━━━━━━\u001b[0m \u001b[1;34m1/1\u001b[0m [ \u001b[33m0:00:02\u001b[0m < \u001b[36m0:00:00\u001b[0m | \u001b[31m?\u001b[0m \u001b[31mchunk/s\u001b[0m ]\n"
      ]
     },
     "metadata": {},
     "output_type": "display_data"
    },
    {
     "data": {
      "text/html": [
       "<pre style=\"white-space:pre;overflow-x:auto;line-height:normal;font-family:Menlo,'DejaVu Sans Mono',consolas,'Courier New',monospace\"></pre>\n"
      ],
      "text/plain": []
     },
     "metadata": {},
     "output_type": "display_data"
    },
    {
     "data": {
      "text/html": [
       "<pre style=\"white-space:pre;overflow-x:auto;line-height:normal;font-family:Menlo,'DejaVu Sans Mono',consolas,'Courier New',monospace\">\n",
       "</pre>\n"
      ],
      "text/plain": [
       "\n"
      ]
     },
     "metadata": {},
     "output_type": "display_data"
    },
    {
     "name": "stdout",
     "output_type": "stream",
     "text": [
      "Scaling with scale =  {}\n",
      "Scaling with scale =  {}\n",
      "Scaling with scale =  {}\n",
      "Scaling with scale =  {}\n",
      "Scaling with scale =  {}\n",
      "Scaling with scale =  {}\n",
      "Scaling with scale =  {}\n",
      "Scaling with scale =  {}\n",
      "Scaling with scale =  {}\n",
      "Scaling with scale =  {}\n",
      "Scaling with scale =  {}\n",
      "Scaling with scale =  {}\n",
      "Scaling with scale =  {}\n",
      "Scaling with scale =  {}\n",
      "Scaling with scale =  {}\n",
      "Scaling with scale =  {}\n",
      "Scaling with scale =  {}\n",
      "Scaling with scale =  {}\n",
      "Scaling with scale =  {}\n",
      "Scaling with scale =  {}\n",
      "Scaling with scale =  {}\n",
      "Scaling with scale =  {}\n",
      "Scaling with scale =  {}\n",
      "Scaling with scale =  {}\n",
      "Scaling with scale =  {}\n",
      "Scaling with scale =  {}\n",
      "Scaling with scale =  {}\n",
      "Scaling with scale =  {}\n",
      "Scaling with scale =  {}\n",
      "Scaling with scale =  {}\n",
      "Scaling with scale =  {}\n",
      "Scaling with scale =  {}\n",
      "Scaling with scale =  {}\n",
      "Scaling with scale =  {}\n",
      "Scaling with scale =  {}\n",
      "Scaling with scale =  {}\n",
      "Scaling with scale =  {}\n",
      "Scaling with scale =  {}\n",
      "Scaling with scale =  {}\n",
      "Scaling with scale =  {}\n",
      "Scaling with scale =  {}\n",
      "Scaling with scale =  {}\n",
      "Scaling with scale =  {}\n",
      "Scaling with scale =  {}\n"
     ]
    },
    {
     "name": "stderr",
     "output_type": "stream",
     "text": [
      "../HNLprocessor/TTbar_proc.py:367: RuntimeWarning: Missing cross section for dataset EGamma_2018A.  No normalization applied. \n",
      "  scale[dataset] = lumi*corrections.load_xsection()[dataset]/dataset_sumw\n"
     ]
    }
   ],
   "source": [
    "fileset = {\n",
    "     'EGamma_2018A':[\"/uscms/home/kkwok/lpclonglived/HNL/skim_recoMu/EGamma_2018A/HeavyNeutralLepton_Tree_0.root\"]\n",
    "}\n",
    "\n",
    "out = processor.run_uproot_job(\n",
    "    fileset,\n",
    "    treename=\"MuonSystem\",\n",
    "    processor_instance=ttbarProcessor(debug=True),\n",
    "    executor=processor.iterative_executor,\n",
    "    executor_args={\n",
    "        \"schema\": BaseSchema,\n",
    "    },\n",
    "     maxchunks=1,\n",
    "     chunksize=100\n",
    ")"
   ]
  },
  {
   "cell_type": "code",
   "execution_count": null,
   "metadata": {},
   "outputs": [],
   "source": []
  },
  {
   "cell_type": "code",
   "execution_count": null,
   "metadata": {},
   "outputs": [],
   "source": []
  },
  {
   "cell_type": "code",
   "execution_count": null,
   "metadata": {},
   "outputs": [],
   "source": []
  },
  {
   "cell_type": "code",
   "execution_count": 36,
   "metadata": {
    "scrolled": true
   },
   "outputs": [
    {
     "data": {
      "text/plain": [
       "{'cutflow': <Hist (dataset,region,cutflow) instance at 0x7f789fafd110>,\n",
       " 'nCluster': <Hist (dataset,region,nCluster) instance at 0x7f78a02ef750>,\n",
       " 'nCluster_dt': <Hist (dataset,region,nCluster) instance at 0x7f789fafd150>,\n",
       " 'nCluster_n-1': <Hist (dataset,nCluster) instance at 0x7f789fafd190>,\n",
       " 'accept': <Hist (dataset,gLLP_csc,gLLP_dt) instance at 0x7f789fafd1d0>,\n",
       " 'ClusterSize': <Hist (dataset,region,ClusterSize) instance at 0x7f789fafd210>,\n",
       " 'ClusterTime': <Hist (dataset,region,ClusterTime) instance at 0x7f789fafd250>,\n",
       " 'ClusterEta': <Hist (dataset,region,ClusterEta) instance at 0x7f789fafd290>,\n",
       " 'ClusterAvgStation10': <Hist (dataset,region,ClusterAvgStation10) instance at 0x7f789fafd2d0>,\n",
       " 'ClusterNStation10': <Hist (dataset,region,ClusterNStation10) instance at 0x7f789fafd310>,\n",
       " 'dphi_cluster_csc': <Hist (dataset,region,ClusterSize,dphi_lep,dphi_MET) instance at 0x7f789fafd350>,\n",
       " 'ClusterSize_dt': <Hist (dataset,region,ClusterSize) instance at 0x7f789fafd390>,\n",
       " 'ClusterTime_dt': <Hist (dataset,region,ClusterBx) instance at 0x7f789fafd3d0>,\n",
       " 'ClusterEta_dt': <Hist (dataset,region,ClusterEta) instance at 0x7f789fafd410>,\n",
       " 'ClusterAvgStation10_dt': <Hist (dataset,region,ClusterAvgStation10) instance at 0x7f789fafd450>,\n",
       " 'ClusterNStation10_dt': <Hist (dataset,region,ClusterNStation10) instance at 0x7f789fafd490>,\n",
       " 'dphi_cluster_dt': <Hist (dataset,region,ClusterSize,dphi_lep,dphi_MET) instance at 0x7f789fafd4d0>,\n",
       " 'nLeptons': <Hist (dataset,nLeptons) instance at 0x7f789fafd090>,\n",
       " 'elePt': <Hist (dataset,elePt) instance at 0x7f789fafd0d0>,\n",
       " 'eleEta': <Hist (dataset,eleEta) instance at 0x7f789fafd510>,\n",
       " 'muPt': <Hist (dataset,muPt) instance at 0x7f789fafd550>,\n",
       " 'muEta': <Hist (dataset,muEta) instance at 0x7f789fafd590>,\n",
       " 'nJets': <Hist (dataset,nJets) instance at 0x7f789fafd5d0>,\n",
       " 'jetPt': <Hist (dataset,region,jetPt) instance at 0x7f789fafd610>,\n",
       " 'jetMet_dPhi': <Hist (dataset,jetMet_dPhi) instance at 0x7f789fafd650>,\n",
       " 'metXYCorr': <Hist (dataset,region,metXYCorr) instance at 0x7f789fafd690>,\n",
       " 'MT': <Hist (dataset,region,MT) instance at 0x7f789fafd6d0>,\n",
       " 'nPU': <Hist (dataset,nPU) instance at 0x7f789fafd710>,\n",
       " 'nPU_noweight': <Hist (dataset,nPU) instance at 0x7f789fafd750>,\n",
       " 'gWPt': <Hist (dataset,gWPt) instance at 0x7f789fafd790>,\n",
       " 'gWPt_noweight': <Hist (dataset,gWPt) instance at 0x7f789fafd7d0>,\n",
       " 'glepdPhi': <Hist (dataset,region,gLLP_lepdPhi) instance at 0x7f789fafd810>,\n",
       " 'gLepPt': <Hist (dataset,gLepPt) instance at 0x7f789fafd850>,\n",
       " 'gLLP_e': <Hist (dataset,region,gLLP_e) instance at 0x7f789fafd890>,\n",
       " 'gLLP_pt': <Hist (dataset,region,gLLP_pt) instance at 0x7f789fafd8d0>,\n",
       " 'gLLP_eta': <Hist (dataset,region,gLLP_eta) instance at 0x7f789fafd910>,\n",
       " 'llp_cls_z': <Hist (dataset,llp_z,cluster_z) instance at 0x7f789fafd950>,\n",
       " 'llp_cls_eff_z': <Hist (dataset,selection,z) instance at 0x7f789fafd990>,\n",
       " 'llp_cls_eff_r': <Hist (dataset,selection,r) instance at 0x7f789fafd9d0>,\n",
       " 'llp_cls_eff_e': <Hist (dataset,selection,e) instance at 0x7f789fafda10>,\n",
       " 'llp_cls_dt_eff_z': <Hist (dataset,selection,z) instance at 0x7f789fafda50>,\n",
       " 'llp_cls_dt_eff_r': <Hist (dataset,selection,r) instance at 0x7f789fafda90>,\n",
       " 'llp_cls_dt_eff_e': <Hist (dataset,selection,e) instance at 0x7f789fafdad0>,\n",
       " 'sumw': defaultdict_accumulator(float, {}),\n",
       " 'nbjet': <Hist (dataset,region,nbjet) instance at 0x7f789fafdb10>}"
      ]
     },
     "execution_count": 36,
     "metadata": {},
     "output_type": "execute_result"
    }
   ],
   "source": [
    "out\n"
   ]
  },
  {
   "cell_type": "code",
   "execution_count": 2,
   "metadata": {},
   "outputs": [],
   "source": [
    "f = \"~/lpclonglived/HNL/skim_recoMu/EGamma_2018A/HeavyNeutralLepton_Tree_0.root\"\n",
    "# f = \"/uscms/home/kkwok/work/LLP/CMSSW_10_6_20/src/llp_analyzer/test.root\"\n",
    "events = NanoEventsFactory.from_root(f,\n",
    "                                     treepath=\"MuonSystem\",schemaclass=BaseSchema).events()"
   ]
  },
  {
   "cell_type": "code",
   "execution_count": 7,
   "metadata": {},
   "outputs": [],
   "source": [
    "p = MyProcessor()\n",
    "\n",
    "jets = ak.zip(\n",
    "    {k.replace(\"jet\",\"\"):getattr(events,k) for k in events.fields if k.startswith(\"jet\")}\n",
    "    ,with_name=\"PtEtaPhiMLorentzVector\", \n",
    "    behavior=vector.behavior\n",
    "    )\n",
    "\n",
    "good_lep,ele,muons = p.buildGoodLeptons(events) \n",
    "cluster = p.buildCSCcluster(events,good_lep)\n",
    "dt_cluster = p.buildDTcluster(events,good_lep)\n",
    "\n",
    "cluster = p.buildCSCcluster(events,good_lep)        \n",
    "dt_cluster = p.buildDTcluster(events,good_lep)\n",
    "\n",
    "clusterMasks = p.selectCSCcluster(cluster,events) \n",
    "dt_clusterMasks = p.selectDTcluster(dt_cluster,events)\n",
    "bjets = jets[jets.CISV>0.8484]\n",
    "bjets = ak.with_field(bjets,bjets.Phi,\"phi\")\n",
    "bjets = ak.with_field(bjets,bjets.Eta,\"eta\")\n",
    "dphi_e = ak.fill_none(bjets.delta_phi(ak.firsts(good_lep)),-999,axis=None)\n",
    "dr_e   = ak.fill_none(bjets.delta_phi(ak.firsts(good_lep)),-999,axis=None)\n",
    "dphi_mu = ak.fill_none(bjets.delta_phi(ak.firsts(muons)),-999,axis=None)\n",
    "dr_mu   = ak.fill_none(bjets.delta_phi(ak.firsts(muons)),-999,axis=None)\n",
    "\n",
    "bjets= ak.with_field(bjets,dphi_e,\"dphi_e\")\n",
    "bjets= ak.with_field(bjets,dr_e,\"dr_e\")\n",
    "bjets= ak.with_field(bjets,dphi_mu,\"dphi_mu\")\n",
    "bjets= ak.with_field(bjets,dr_mu,\"dr_mu\")"
   ]
  },
  {
   "cell_type": "code",
   "execution_count": 9,
   "metadata": {},
   "outputs": [],
   "source": [
    "bjet_cls_dr = ak.all(delta_r_pairs({\"cls\":cluster,\"bjets\":bjets})[0]>0.4,axis=2)\n",
    "bjet_dt_cls_dr=ak.all(delta_r_pairs({\"cls\":dt_cluster,\"bjets\":bjets})[0]>0.4,axis=2)"
   ]
  },
  {
   "cell_type": "code",
   "execution_count": 39,
   "metadata": {},
   "outputs": [],
   "source": [
    "bjet_muon_dr=ak.all(delta_r_pairs({\"mu\":muons,\"bjets\":bjets})[0]>0.4,axis=2)\n",
    "bjet_e_dr=ak.all(delta_r_pairs({\"e\":ele,\"bjets\":bjets})[0]>0.4,axis=2)"
   ]
  },
  {
   "cell_type": "code",
   "execution_count": 86,
   "metadata": {},
   "outputs": [
    {
     "data": {
      "text/plain": [
       "<Array [[], [], [], [], ... [], [], [], []] type='335510 * var * var * bool'>"
      ]
     },
     "execution_count": 86,
     "metadata": {},
     "output_type": "execute_result"
    }
   ],
   "source": [
    "ak.all(delta_r_pairs({\"cls\":cluster,\"bjets\":bjets})[0]>0.4a)"
   ]
  },
  {
   "cell_type": "code",
   "execution_count": 90,
   "metadata": {},
   "outputs": [
    {
     "data": {
      "text/plain": [
       "<NanoEventsArray [{runNum: 316985, lumiSec: 326, ... ] type='335510 * event'>"
      ]
     },
     "execution_count": 90,
     "metadata": {},
     "output_type": "execute_result"
    }
   ],
   "source": [
    "events"
   ]
  },
  {
   "cell_type": "code",
   "execution_count": 91,
   "metadata": {},
   "outputs": [
    {
     "data": {
      "text/plain": [
       "<Array [True, True, True, ... True, True, True] type='335510 * bool'>"
      ]
     },
     "execution_count": 91,
     "metadata": {},
     "output_type": "execute_result"
    }
   ],
   "source": [
    "ak.fill_none(ak.all(bjet_cls_dr,axis=1),False)"
   ]
  },
  {
   "cell_type": "code",
   "execution_count": 5,
   "metadata": {},
   "outputs": [],
   "source": [
    "# e.g. pair_dict = {\"cls\":cluster,\"bjets\":bjets}\n",
    "def delta_r_pairs(pair_dict):\n",
    "    pairs = ak.cartesian(pair_dict,axis=1,nested=True)\n",
    "    main_obj = getattr(pairs,pairs.fields[0])\n",
    "    sec_obj = getattr(pairs,pairs.fields[1])    \n",
    "    dr_pairs = main_obj.delta_r(sec_obj)       \n",
    "    return dr_pairs,pairs\n",
    "def delta_phi_pairs(pair_dict):\n",
    "    pairs = ak.cartesian(pair_dict,axis=1,nested=True)\n",
    "    main_obj = getattr(pairs,pairs.fields[0])\n",
    "    sec_obj = getattr(pairs,pairs.fields[1])    \n",
    "    dphi_pairs = main_obj.delta_phi(sec_obj)       \n",
    "    return dphi_pairs,pairs"
   ]
  },
  {
   "cell_type": "code",
   "execution_count": 20,
   "metadata": {},
   "outputs": [
    {
     "data": {
      "text/plain": [
       "<Array [0.618, 2.39, 3.08, ... 4.32, 2.91] type='2578 * float32'>"
      ]
     },
     "execution_count": 20,
     "metadata": {},
     "output_type": "execute_result"
    }
   ],
   "source": []
  },
  {
   "cell_type": "code",
   "execution_count": 11,
   "metadata": {},
   "outputs": [],
   "source": [
    "sel =(\n",
    "    (events.SingleEleTrigger==True)&\n",
    "    (ak.num(good_lep,axis=1)==1)&\n",
    "    (events.metEENoise>=30)\n",
    "    )"
   ]
  },
  {
   "cell_type": "code",
   "execution_count": 37,
   "metadata": {},
   "outputs": [
    {
     "data": {
      "text/plain": [
       "(2.9805370927841195e-06, 1)"
      ]
     },
     "execution_count": 37,
     "metadata": {},
     "output_type": "execute_result"
    },
    {
     "data": {
      "image/png": "[encoded data removed]",
      "text/plain": [
       "<Figure size 432x288 with 1 Axes>"
      ]
     },
     "metadata": {
      "needs_background": "light"
     },
     "output_type": "display_data"
    }
   ],
   "source": [
    "fig,ax = plt.subplots()\n",
    "h = hist.Hist(\"Events\",hist.Cat(\"sample\", \"sample\"),\n",
    "                       hist.Bin(\"n\", \"n\", 5, 0, 5))\n",
    "h.fill(sample=\"bjet\",n=ak.num(bjets[sel]))\n",
    "h.fill(sample=\"muon\",n=ak.num(muons[sel]))\n",
    "hist.plot1d(h,density=True,ax=ax)\n",
    "ax.set_yscale(\"log\")\n",
    "ax.set_ylim(1./len(events),1)"
   ]
  },
  {
   "cell_type": "code",
   "execution_count": 32,
   "metadata": {},
   "outputs": [
    {
     "data": {
      "text/plain": [
       "<Array [[], [], [], [], ... [], [-999], []] type='335510 * var * float64'>"
      ]
     },
     "execution_count": 32,
     "metadata": {},
     "output_type": "execute_result"
    }
   ],
   "source": [
    "bjets.dphi_e"
   ]
  },
  {
   "cell_type": "code",
   "execution_count": 34,
   "metadata": {},
   "outputs": [
    {
     "data": {
      "text/plain": [
       "<AxesSubplot:xlabel='dphi', ylabel='Events'>"
      ]
     },
     "execution_count": 34,
     "metadata": {},
     "output_type": "execute_result"
    },
    {
     "data": {
      "image/png": "[encoded data removed]",
      "text/plain": [
       "<Figure size 432x288 with 1 Axes>"
      ]
     },
     "metadata": {
      "needs_background": "light"
     },
     "output_type": "display_data"
    }
   ],
   "source": [
    "dphi_mu = ak.flatten(bjets[sel].dphi_mu)\n",
    "dphi_e = ak.flatten(bjets[sel].dphi_e)\n",
    "fig,ax = plt.subplots()\n",
    "h = hist.Hist(\"Events\",hist.Cat(\"sample\", \"sample\"),\n",
    "                       hist.Bin(\"dphi\", \"dphi\", 20, 0, 4))\n",
    "h.fill(sample=\"bjet(mu)\" ,dphi=np.abs(dphi_mu))\n",
    "h.fill(sample=\"bjet(ele)\",dphi=np.abs(dphi_e))\n",
    "hist.plot1d(h,density=True)"
   ]
  },
  {
   "cell_type": "code",
   "execution_count": 31,
   "metadata": {},
   "outputs": [
    {
     "data": {
      "text/plain": [
       "<AxesSubplot:xlabel='dr', ylabel='Events'>"
      ]
     },
     "execution_count": 31,
     "metadata": {},
     "output_type": "execute_result"
    },
    {
     "data": {
      "image/png": "[encoded data removed]",
      "text/plain": [
       "<Figure size 432x288 with 1 Axes>"
      ]
     },
     "metadata": {
      "needs_background": "light"
     },
     "output_type": "display_data"
    }
   ],
   "source": [
    "dr_mu = ak.flatten(bjets[sel].dr_mu)\n",
    "dr_e = ak.flatten(bjets[sel].dr_e)\n",
    "fig,ax = plt.subplots()\n",
    "h = hist.Hist(\"Events\",hist.Cat(\"sample\", \"sample\"),\n",
    "                       hist.Bin(\"dr\", \"dr\", 20, 0, 4))\n",
    "h.fill(sample=\"bjet(mu)\" ,dr=dr_mu)\n",
    "h.fill(sample=\"bjet(ele)\",dr=dr_e)\n",
    "hist.plot1d(h,density=True)"
   ]
  },
  {
   "cell_type": "code",
   "execution_count": 41,
   "metadata": {},
   "outputs": [
    {
     "data": {
      "text/plain": [
       "<AxesSubplot:xlabel='dr', ylabel='Events'>"
      ]
     },
     "execution_count": 41,
     "metadata": {},
     "output_type": "execute_result"
    },
    {
     "data": {
      "image/png": "[encoded data removed]",
      "text/plain": [
       "<Figure size 432x288 with 1 Axes>"
      ]
     },
     "metadata": {
      "needs_background": "light"
     },
     "output_type": "display_data"
    }
   ],
   "source": [
    "dr          = ak.flatten(delta_r_pairs({\"cls\":cluster,\"bjets\":bjets})[0],axis=None)\n",
    "dr_dt       = ak.flatten(delta_r_pairs({\"cls\":dt_cluster,\"bjets\":bjets})[0],axis=None)\n",
    "bjet_muon_dr=ak.flatten(delta_r_pairs({\"mu\":muons,\"bjets\":bjets})[0],axis=None)\n",
    "bjet_e_dr   =ak.flatten(delta_r_pairs({\"e\":ele,\"bjets\":bjets})[0],axis=None)\n",
    "\n",
    "fig,ax = plt.subplots()\n",
    "h = hist.Hist(\"Events\",hist.Cat(\"sample\", \"sample\"),\n",
    "                       hist.Bin(\"dr\", \"dr\", 20, 0, 4))\n",
    "h.fill(sample=\"bjet(CSC)\" ,dr=dr)\n",
    "h.fill(sample=\"bjet(DT)\"  ,dr=dr_dt)\n",
    "h.fill(sample=\"bjet(muon)\",dr=bjet_muon_dr)\n",
    "h.fill(sample=\"bjet(ele)\" ,dr=bjet_e_dr)\n",
    "hist.plot1d(h,density=True)"
   ]
  },
  {
   "cell_type": "code",
   "execution_count": 6,
   "metadata": {},
   "outputs": [
    {
     "data": {
      "text/plain": [
       "<PtEtaPhiMLorentzVectorArray [[], [], ... []] type='335510 * var * PtEtaPhiMLore...'>"
      ]
     },
     "execution_count": 6,
     "metadata": {},
     "output_type": "execute_result"
    }
   ],
   "source": [
    "bjets"
   ]
  },
  {
   "cell_type": "code",
   "execution_count": 30,
   "metadata": {},
   "outputs": [
    {
     "data": {
      "text/plain": [
       "<Array [False, False] type='2 * bool'>"
      ]
     },
     "execution_count": 30,
     "metadata": {},
     "output_type": "execute_result"
    }
   ],
   "source": [
    "clusterMasks[\"ME11_12_veto\"][10109]"
   ]
  },
  {
   "cell_type": "code",
   "execution_count": 29,
   "metadata": {},
   "outputs": [
    {
     "data": {
      "text/plain": [
       "<Array [True, True] type='2 * bool'>"
      ]
     },
     "execution_count": 29,
     "metadata": {},
     "output_type": "execute_result"
    }
   ],
   "source": [
    "clusterMasks[\"ne_ME11_12_veto\"][10109]"
   ]
  },
  {
   "cell_type": "code",
   "execution_count": 27,
   "metadata": {},
   "outputs": [],
   "source": [
    "# CSC_sel_ABCD = [\"ME11_12_veto\",\"jetVeto\",\"muonVeto\",\"MB1seg_veto\",\"RB1_veto\",\n",
    "#                         \"IntimeCut\",\"timeSpreadCut\",\"ClusterID\"]\n",
    "clusterMasks[\"ne_ME11_12_veto\"] = ~clusterMasks['ME11_12_veto']"
   ]
  },
  {
   "cell_type": "code",
   "execution_count": 7,
   "metadata": {},
   "outputs": [
    {
     "data": {
      "text/plain": [
       "['Met_dPhi',\n",
       " 'Met_dPhiMin',\n",
       " 'Met_dPhiMin4',\n",
       " 'E',\n",
       " 'Pt',\n",
       " 'Eta',\n",
       " 'Phi',\n",
       " 'Time',\n",
       " 'PassId',\n",
       " 'CISV',\n",
       " 'CMVA',\n",
       " 'PtJESUp',\n",
       " 'PtJESDown',\n",
       " 'EJESUp',\n",
       " 'EJESDown',\n",
       " '_match_genJet_pt',\n",
       " '_match_genJet_index',\n",
       " '_match_genJet_minDeltaR',\n",
       " 'TightPassId',\n",
       " 'MuonEnergyFraction',\n",
       " 'ElectronEnergyFraction',\n",
       " 'PhotonEnergyFraction',\n",
       " 'ChargedHadronEnergyFraction',\n",
       " 'NeutralHadronEnergyFraction']"
      ]
     },
     "execution_count": 7,
     "metadata": {},
     "output_type": "execute_result"
    }
   ],
   "source": [
    "bjets.fields"
   ]
  },
  {
   "cell_type": "code",
   "execution_count": 6,
   "metadata": {},
   "outputs": [],
   "source": []
  },
  {
   "cell_type": "code",
   "execution_count": 7,
   "metadata": {},
   "outputs": [
    {
     "data": {
      "text/plain": [
       "<Array [[], [], [], [], ... [], [], [], []] type='335510 * var * float32[paramet...'>"
      ]
     },
     "execution_count": 7,
     "metadata": {},
     "output_type": "execute_result"
    }
   ],
   "source": [
    "cluster.eta"
   ]
  },
  {
   "cell_type": "code",
   "execution_count": 25,
   "metadata": {},
   "outputs": [
    {
     "data": {
      "text/plain": [
       "<Array [[], [], [], [], ... [], [-999], []] type='335510 * var * float64'>"
      ]
     },
     "execution_count": 25,
     "metadata": {},
     "output_type": "execute_result"
    }
   ],
   "source": [
    "bjets.dphi_bjet_e"
   ]
  },
  {
   "cell_type": "code",
   "execution_count": 23,
   "metadata": {},
   "outputs": [],
   "source": [
    "bjets= ak.with_field(bjets,dphi_bjet_e,\"dphi_bjet_e\")"
   ]
  },
  {
   "cell_type": "code",
   "execution_count": 8,
   "metadata": {},
   "outputs": [
    {
     "data": {
      "text/plain": [
       "<Array [None, None, [], ... None, None, None] type='335510 * option[var * float32]'>"
      ]
     },
     "execution_count": 8,
     "metadata": {},
     "output_type": "execute_result"
    }
   ],
   "source": [
    "bjets.delta_phi(ak.firsts(ele))"
   ]
  },
  {
   "cell_type": "code",
   "execution_count": 22,
   "metadata": {
    "scrolled": true
   },
   "outputs": [],
   "source": [
    "dphi_bjet_e = ak.fill_none(bjets.delta_phi(ak.firsts(ele)),-999,axis=None)\n",
    "dr_bjet_e   = ak.fill_none(bjets.delta_phi(ak.firsts(ele)),-999,axis=None)\n"
   ]
  },
  {
   "cell_type": "code",
   "execution_count": 21,
   "metadata": {},
   "outputs": [
    {
     "data": {
      "text/plain": [
       "(<Array [7332, 170517, ... 293669, 302007] type='5 * int64'>,)"
      ]
     },
     "execution_count": 21,
     "metadata": {},
     "output_type": "execute_result"
    }
   ],
   "source": [
    "np.where(ak.num(muons)>1)"
   ]
  },
  {
   "cell_type": "code",
   "execution_count": 15,
   "metadata": {},
   "outputs": [
    {
     "data": {
      "text/plain": [
       "<Array [False, False, False, ... False, False] type='335510 * union[var * bool, ...'>"
      ]
     },
     "execution_count": 15,
     "metadata": {},
     "output_type": "execute_result"
    }
   ],
   "source": [
    "dr_bjet_cls>0.4"
   ]
  },
  {
   "cell_type": "code",
   "execution_count": 10,
   "metadata": {},
   "outputs": [],
   "source": []
  },
  {
   "cell_type": "code",
   "execution_count": 11,
   "metadata": {},
   "outputs": [],
   "source": [
    "all_dr = ak.all(delta_r_pairs({\"cls\":cluster,\"bjets\":bjets})[0]>0.4,axis=2)"
   ]
  },
  {
   "cell_type": "code",
   "execution_count": 12,
   "metadata": {},
   "outputs": [],
   "source": [
    "dr,bjet_pairs = delta_r_pairs({\"cls\":cluster,\"bjets\":bjets})"
   ]
  },
  {
   "cell_type": "code",
   "execution_count": 13,
   "metadata": {},
   "outputs": [
    {
     "data": {
      "text/plain": [
       "(<Array [10109, 10850, ... 330324, 332152] type='79 * int64'>,)"
      ]
     },
     "execution_count": 13,
     "metadata": {},
     "output_type": "execute_result"
    }
   ],
   "source": [
    "np.where((ak.num(bjets)>0)&(ak.num(cluster)>1))"
   ]
  },
  {
   "cell_type": "code",
   "execution_count": 14,
   "metadata": {},
   "outputs": [
    {
     "data": {
      "text/plain": [
       "<PtEtaPhiMLorentzVectorArray [{time: 14.5, ... dr_cluster_lep: -999}] type='2 * ...'>"
      ]
     },
     "execution_count": 14,
     "metadata": {},
     "output_type": "execute_result"
    }
   ],
   "source": [
    "cluster[10109]"
   ]
  },
  {
   "cell_type": "code",
   "execution_count": 15,
   "metadata": {},
   "outputs": [
    {
     "data": {
      "text/plain": [
       "<PtEtaPhiMLorentzVectorArray [... phi: 0.664, eta: -1.12}] type='1 * PtEtaPhiMLo...'>"
      ]
     },
     "execution_count": 15,
     "metadata": {},
     "output_type": "execute_result"
    }
   ],
   "source": [
    "bjets[10109]"
   ]
  },
  {
   "cell_type": "code",
   "execution_count": 16,
   "metadata": {},
   "outputs": [
    {
     "data": {
      "text/plain": [
       "<Array [[], [], [], [], ... [], [], [], []] type='335510 * var * var * float32'>"
      ]
     },
     "execution_count": 16,
     "metadata": {},
     "output_type": "execute_result"
    }
   ],
   "source": [
    "dr"
   ]
  },
  {
   "cell_type": "code",
   "execution_count": null,
   "metadata": {},
   "outputs": [],
   "source": []
  },
  {
   "cell_type": "code",
   "execution_count": 21,
   "metadata": {},
   "outputs": [
    {
     "data": {
      "text/plain": [
       "<Array [True, False] type='2 * bool'>"
      ]
     },
     "execution_count": 21,
     "metadata": {},
     "output_type": "execute_result"
    }
   ],
   "source": [
    "ak.any(dr<3,axis=2)[10109]"
   ]
  },
  {
   "cell_type": "code",
   "execution_count": 15,
   "metadata": {},
   "outputs": [
    {
     "data": {
      "text/plain": [
       "[[{'Met_dPhi': -3.0718295574188232,\n",
       "   'Met_dPhiMin': 0.004399776458740234,\n",
       "   'Met_dPhiMin4': 0.004399776458740234,\n",
       "   'E': 82.59855651855469,\n",
       "   'Pt': 48.28376388549805,\n",
       "   'Eta': -1.124759316444397,\n",
       "   'Phi': 0.6635959148406982,\n",
       "   'Time': 0.0,\n",
       "   'PassId': False,\n",
       "   'CISV': 0.9128515124320984,\n",
       "   'CMVA': 0.0,\n",
       "   'PtJESUp': 49.328521728515625,\n",
       "   'PtJESDown': 47.23900604248047,\n",
       "   'EJESUp': 84.38581085205078,\n",
       "   'EJESDown': 80.8113021850586,\n",
       "   '_match_genJet_pt': -999.0,\n",
       "   '_match_genJet_index': -999,\n",
       "   '_match_genJet_minDeltaR': -999.0,\n",
       "   'TightPassId': True,\n",
       "   'MuonEnergyFraction': -999.0,\n",
       "   'ElectronEnergyFraction': -999.0,\n",
       "   'PhotonEnergyFraction': -999.0,\n",
       "   'ChargedHadronEnergyFraction': -999.0,\n",
       "   'NeutralHadronEnergyFraction': -999.0,\n",
       "   'phi': 0.6635959148406982,\n",
       "   'eta': -1.124759316444397}],\n",
       " []]"
      ]
     },
     "execution_count": 15,
     "metadata": {},
     "output_type": "execute_result"
    }
   ],
   "source": [
    "bjet_pairs.bjets[dr<3][10109].to_list()"
   ]
  },
  {
   "cell_type": "code",
   "execution_count": null,
   "metadata": {},
   "outputs": [],
   "source": [
    "ak.any(dr<0.4,axis=1)[10109]"
   ]
  },
  {
   "cell_type": "code",
   "execution_count": 44,
   "metadata": {},
   "outputs": [
    {
     "data": {
      "text/plain": [
       "<PtEtaPhiMLorentzVectorArray [[{Met_dPhi: -3.07, ... eta: -1.12}]] type='2 * var...'>"
      ]
     },
     "execution_count": 44,
     "metadata": {},
     "output_type": "execute_result"
    }
   ],
   "source": [
    "bjet_pairs.bjets[10109]"
   ]
  },
  {
   "cell_type": "code",
   "execution_count": 43,
   "metadata": {},
   "outputs": [
    {
     "data": {
      "text/plain": [
       "<PtEtaPhiMLorentzVectorArray [[{time: 14.5, ... ] type='2 * var * PtEtaPhiMLoren...'>"
      ]
     },
     "execution_count": 43,
     "metadata": {},
     "output_type": "execute_result"
    }
   ],
   "source": [
    "bjet_pairs.cls[10109]"
   ]
  },
  {
   "cell_type": "code",
   "execution_count": 13,
   "metadata": {},
   "outputs": [
    {
     "data": {
      "text/plain": [
       "<Array [[], [], [], [], ... [], [], [], []] type='335510 * var * bool'>"
      ]
     },
     "execution_count": 13,
     "metadata": {},
     "output_type": "execute_result"
    }
   ],
   "source": [
    "all_dr"
   ]
  },
  {
   "cell_type": "code",
   "execution_count": 28,
   "metadata": {},
   "outputs": [
    {
     "name": "stdout",
     "output_type": "stream",
     "text": [
      "[2.01]\n",
      "[2.04]\n"
     ]
    }
   ],
   "source": [
    "print(cluster[628].eta)\n",
    "print(cluster[628].phi)"
   ]
  },
  {
   "cell_type": "code",
   "execution_count": 25,
   "metadata": {},
   "outputs": [
    {
     "name": "stdout",
     "output_type": "stream",
     "text": [
      "[1.7, 2]\n",
      "[-1.02, 1.53]\n"
     ]
    }
   ],
   "source": [
    "print(bjets[628].eta)\n",
    "print(bjets[628].phi)"
   ]
  },
  {
   "cell_type": "code",
   "execution_count": null,
   "metadata": {},
   "outputs": [],
   "source": [
    "np.where((ak.num(bjets)>0)&(ak.num(cluster)>0))"
   ]
  },
  {
   "cell_type": "code",
   "execution_count": 27,
   "metadata": {},
   "outputs": [
    {
     "data": {
      "text/plain": [
       "<PtEtaPhiMLorentzVectorArray [[], [], [], [], ... [], [], [], []] type='335510 *...'>"
      ]
     },
     "execution_count": 27,
     "metadata": {},
     "output_type": "execute_result"
    }
   ],
   "source": [
    "bjets[]"
   ]
  },
  {
   "cell_type": "code",
   "execution_count": 21,
   "metadata": {},
   "outputs": [],
   "source": [
    "pair = ak.cartesian({\"cls\":cluster,'bjets':bjets},axis=1,nested=True)\n",
    "# dphi_lep_cls = cls_lep_pair.cls.delta_phi(cls_lep_pair.lep)       \n"
   ]
  },
  {
   "cell_type": "code",
   "execution_count": 47,
   "metadata": {},
   "outputs": [
    {
     "data": {
      "text/plain": [
       "['time',\n",
       " 'size',\n",
       " 'timeSpread',\n",
       " 'eta',\n",
       " 'phi',\n",
       " 'x',\n",
       " 'y',\n",
       " 'z',\n",
       " 'llp_x',\n",
       " 'llp_y',\n",
       " 'llp_z',\n",
       " 'NChamber',\n",
       " 'MaxChamber',\n",
       " 'MaxStation',\n",
       " 'NStation10',\n",
       " 'AvgStation10',\n",
       " 'ME11_12',\n",
       " 'llp_match',\n",
       " 'RE12',\n",
       " 'MB1seg',\n",
       " 'RB1',\n",
       " 'MuonVetoPt',\n",
       " 'MuonVetoEta',\n",
       " 'JetVetoPt',\n",
       " 'JetVetoEta',\n",
       " 'dphi_cluster_MET',\n",
       " 'dphi_cluster_lep',\n",
       " 'dr_cluster_lep']"
      ]
     },
     "execution_count": 47,
     "metadata": {},
     "output_type": "execute_result"
    }
   ],
   "source": [
    "cluster.fields"
   ]
  },
  {
   "cell_type": "code",
   "execution_count": 45,
   "metadata": {},
   "outputs": [
    {
     "data": {
      "text/plain": [
       "['Met_dPhi',\n",
       " 'Met_dPhiMin',\n",
       " 'Met_dPhiMin4',\n",
       " 'E',\n",
       " 'Pt',\n",
       " 'Eta',\n",
       " 'Phi',\n",
       " 'Time',\n",
       " 'PassId',\n",
       " 'CISV',\n",
       " 'CMVA',\n",
       " 'PtJESUp',\n",
       " 'PtJESDown',\n",
       " 'EJESUp',\n",
       " 'EJESDown',\n",
       " '_match_genJet_pt',\n",
       " '_match_genJet_index',\n",
       " '_match_genJet_minDeltaR',\n",
       " 'TightPassId',\n",
       " 'MuonEnergyFraction',\n",
       " 'ElectronEnergyFraction',\n",
       " 'PhotonEnergyFraction',\n",
       " 'ChargedHadronEnergyFraction',\n",
       " 'NeutralHadronEnergyFraction']"
      ]
     },
     "execution_count": 45,
     "metadata": {},
     "output_type": "execute_result"
    }
   ],
   "source": [
    "bjets.fields"
   ]
  },
  {
   "cell_type": "code",
   "execution_count": 6,
   "metadata": {},
   "outputs": [
    {
     "name": "stdout",
     "output_type": "stream",
     "text": [
      "nevts_WJ =  22389133.0\n",
      "nevts_data =  22198219.0\n",
      "weight =  2.348639404661181\n"
     ]
    }
   ],
   "source": [
    "lumi = 0.939\n",
    "br = 1\n",
    "xsec = 56000*1000 *br\n",
    "nevts_WJ = out['sumw']['WJetsToLNu']\n",
    "nevts_data = out['sumw']['EGamma_2018A']\n",
    "\n",
    "w_WJ = lumi * xsec / nevts_WJ\n",
    "print('nevts_WJ = ',nevts_WJ )\n",
    "print('nevts_data = ',nevts_data )\n",
    "print('weight = ',lumi * xsec / nevts_WJ)\n"
   ]
  },
  {
   "cell_type": "code",
   "execution_count": 84,
   "metadata": {},
   "outputs": [],
   "source": []
  },
  {
   "cell_type": "code",
   "execution_count": 46,
   "metadata": {},
   "outputs": [
    {
     "data": {
      "text/plain": [
       "[<StringBin (EGamma_2018A) instance at 0x7f4eaba88450>]"
      ]
     },
     "execution_count": 46,
     "metadata": {},
     "output_type": "execute_result"
    }
   ],
   "source": [
    "out['ClusterSize'][0:1].identifiers(\"dataset\")"
   ]
  },
  {
   "cell_type": "code",
   "execution_count": 125,
   "metadata": {},
   "outputs": [
    {
     "data": {
      "text/plain": [
       "[<StringBin (ele_JetMuStaVeto) instance at 0x7f4ea8dfd590>,\n",
       " <StringBin (ele_JetMuVeto) instance at 0x7f4ea8dfd550>,\n",
       " <StringBin (ele_OOT) instance at 0x7f4ea8dfd610>,\n",
       " <StringBin (ele_PreSel) instance at 0x7f4ea8dfd450>,\n",
       " <StringBin (ele_SR) instance at 0x7f4ea8dfd5d0>,\n",
       " <StringBin (ele_W_CR) instance at 0x7f4ea8dfd490>,\n",
       " <StringBin (ele_W_CR2) instance at 0x7f4ea8dfd4d0>,\n",
       " <StringBin (ele_rawcls) instance at 0x7f4ea8dfd510>,\n",
       " <StringBin (noselection) instance at 0x7f4ea8dfd650>]"
      ]
     },
     "execution_count": 125,
     "metadata": {},
     "output_type": "execute_result"
    }
   ],
   "source": [
    "out['ClusterSize'][1:,::].identifiers(\"region\")"
   ]
  },
  {
   "cell_type": "code",
   "execution_count": 82,
   "metadata": {},
   "outputs": [
    {
     "data": {
      "text/plain": [
       "[<StringBin (ele_NoVeto) instance at 0x7f4eabb25b10>,\n",
       " <StringBin (ele_OOT) instance at 0x7f4eabb25dd0>,\n",
       " <StringBin (ele_PreSel) instance at 0x7f4eabb250d0>,\n",
       " <StringBin (ele_SR) instance at 0x7f4eabb25910>,\n",
       " <StringBin (ele_W_CR) instance at 0x7f4eabb25590>,\n",
       " <StringBin (ele_rawcls) instance at 0x7f4eabb25750>,\n",
       " <StringBin (noselection) instance at 0x7f4eabb258d0>]"
      ]
     },
     "execution_count": 82,
     "metadata": {},
     "output_type": "execute_result"
    }
   ],
   "source": [
    "out['dphi_cluster_MET'].identifiers('region')"
   ]
  },
  {
   "cell_type": "code",
   "execution_count": 71,
   "metadata": {
    "scrolled": false
   },
   "outputs": [
    {
     "data": {
      "image/png": "[encoded data removed]",
      "text/plain": [
       "<Figure size 864x1728 with 16 Axes>"
      ]
     },
     "metadata": {
      "needs_background": "light"
     },
     "output_type": "display_data"
    }
   ],
   "source": [
    "hists = [\n",
    "    \n",
    "    out[\"nCscRechits\"],\n",
    "    out[\"nCluster\"],\n",
    "    out['metXYCorr'],    \n",
    "    out['ClusterSize'].project('ClusterSize','dataset'),\n",
    "            out['MT'],\n",
    "    out['ClusterNChamber'],\n",
    "#     out['ClusterMaxChamber'],\n",
    "    out['ClusterMaxStation'],\n",
    "    out['ClusterNStation10'],\n",
    "    out['ClusterAvgStation10'],\n",
    "    out['ClusterME11_ME12'],    \n",
    "    out['ClusterEta'],    \n",
    "    out['ClusterTime'],\n",
    "    out['ClusterTimeSpread'],\n",
    "    out['dphi_cluster_MET'].project(\"dphi_cluster_MET\",\"dataset\"),\n",
    "    out['dphi_cluster_lep'].project('dphi','dataset')\n",
    "]\n",
    "\n",
    "ncols=2\n",
    "nrows=int(np.ceil(len(hists)/ncols))\n",
    "figsize=(6,3)\n",
    "\n",
    "# lumi = 4.321\n",
    "# br = 0.3\n",
    "# xsec = 56000*1000 *br\n",
    "# nevts_WJ = out['sumw']['WJetsToLNu']\n",
    "# nevts_data = out['sumw']['SingleMu 2017B(t<-12.5)']\n",
    "\n",
    "# print('nevts_WJ = ',nevts_WJ )\n",
    "# print('nevts_data = ',nevts_data )\n",
    "# print('weight = ',lumi *(nevts_data / 4586253.0)* xsec / nevts_WJ)\n",
    "\n",
    "fig, axs = plt.subplots(nrows, ncols, squeeze=False,\n",
    "                        figsize=[ncols*figsize[0],nrows*figsize[1]])\n",
    "axs = axs.flatten()\n",
    "\n",
    "for i,h in enumerate(hists):\n",
    "#     h.label='Density'\n",
    "#     hplot = h.copy()\n",
    "#     hplot.scale({\"WJetsToLNu\": lumi *(nevts_data / 4586253.0)* xsec / nevts_WJ}, \"dataset\")    \n",
    "    hist.plot1d(h,ax=axs[i], overlay='dataset',density=False,clear=False)\n",
    "\n",
    "# axs[2].set_ylim(1e-4,None);axs[2].set_yscale('log')    \n",
    "# axs[8].set_ylim(1e-4,None);axs[8].set_yscale('log')    \n",
    "axs[7].set_ylim(1e-4,None);axs[7].set_yscale('log')        \n",
    "\n",
    "plt.tight_layout()\n",
    "plt.show()"
   ]
  },
  {
   "cell_type": "code",
   "execution_count": null,
   "metadata": {},
   "outputs": [],
   "source": [
    "h=out['clusterID']\n",
    "ncols=2\n",
    "nrows=2\n",
    "figsize=(6,3)\n",
    "\n",
    "fig, axs = plt.subplots(nrows, ncols, squeeze=False,\n",
    "                        figsize=[ncols*figsize[0],nrows*figsize[1]])\n",
    "axs = axs.flatten()\n",
    "\n",
    "hist.plot2d(h[r'HNL,$m_N$=5'].project(\"Eta\",\"AvgStation10\"),xaxis='Eta',ax=axs[0])\n",
    "hist.plot2d(h[\"SingleMu 2017B(t<-12.5)\"].project(\"Eta\",\"AvgStation10\"),xaxis='Eta',ax=axs[1])\n",
    "hist.plot2d(h[\"WJetstoLNu\"].project(\"Eta\",\"AvgStation10\"),xaxis='Eta',ax=axs[2])\n",
    "\n",
    "plt.tight_layout()\n",
    "plt.show()"
   ]
  },
  {
   "cell_type": "code",
   "execution_count": null,
   "metadata": {},
   "outputs": [],
   "source": [
    "h[r'HNL,$m_N$=5']"
   ]
  },
  {
   "cell_type": "code",
   "execution_count": null,
   "metadata": {},
   "outputs": [],
   "source": []
  },
  {
   "cell_type": "code",
   "execution_count": null,
   "metadata": {},
   "outputs": [],
   "source": []
  },
  {
   "cell_type": "code",
   "execution_count": null,
   "metadata": {},
   "outputs": [],
   "source": [
    "v = out['Veto']\n",
    "h = out['muVeto']\n",
    "j = out['jetVeto']\n",
    "ncols=2\n",
    "nrows=4\n",
    "figsize=(6,3)\n",
    "\n",
    "fig, axs = plt.subplots(nrows, ncols, squeeze=False,\n",
    "                        figsize=[ncols*figsize[0],nrows*figsize[1]])\n",
    "axs = axs.flatten()\n",
    "\n",
    "h.label='Density'\n",
    "\n",
    "hist.plot2d(h['SingleMu 2017B(t<-12.5)'].project(\"time\",\"pt\"),xaxis='time',ax=axs[0])\n",
    "\n",
    "# for i,name in enumerate(['muVeto','jetVeto']):\n",
    "#     hist.plot1d(v.project(name,'dataset'),ax=axs[i], overlay='dataset',density=True,clear=False)\n",
    "\n",
    "# for i,name in enumerate(['pt','time','eta','LooseId','LooseIso']):\n",
    "for i,name in enumerate(['pt','time','eta']):\n",
    "    hist.plot1d(h.project(name,'dataset'),ax=axs[i+1], overlay='dataset',density=True,clear=False)\n",
    "\n",
    "# for i,name in enumerate(['pt','eta']):\n",
    "#     hist.plot1d(j.project(name,'dataset'),ax=axs[i+5], overlay='dataset',density=True,clear=False)\n",
    "\n",
    "# axs[-2].set_xlabel('jetVeto_pt')    \n",
    "# axs[-1].set_xlabel('jetVeto_eta')    \n",
    "    \n",
    "# axs[2].set_ylim(1E-4,10);axs[2].set_yscale('log')\n",
    "# axs[3].set_ylim(1E-4,10);axs[3].set_yscale('log')\n",
    "plt.tight_layout()\n",
    "plt.show()"
   ]
  },
  {
   "cell_type": "markdown",
   "metadata": {},
   "source": [
    "h = out[\"gLLP_csc\"]\n",
    "ax = hist.plot1d(h, overlay='dataset',density=True,clear=False)\n",
    "print(\"Efficiency in CSC:\")\n",
    "for ds,arr in h.values().items():\n",
    "    print(ds,\"{:.3f}\".format(arr[1]/np.sum(arr)))"
   ]
  },
  {
   "cell_type": "code",
   "execution_count": null,
   "metadata": {},
   "outputs": [],
   "source": [
    "h = out['dphi_cluster_lep']\n",
    "hist.plotgrid(\n",
    "    h,\n",
    "    col='llp_matched',\n",
    "    overlay='dataset',\n",
    "    density=True,\n",
    ")"
   ]
  },
  {
   "cell_type": "code",
   "execution_count": null,
   "metadata": {},
   "outputs": [],
   "source": [
    "import matplotlib.patches as patches\n",
    "\n",
    "def plotEff_efrac(h,ax,axis='e'):\n",
    "    h_pass=h.integrate('selection',slice(1,None))\n",
    "    h_pass.label='Signal Efficiency'\n",
    "\n",
    "    h_EMfrac_p9=h.integrate(\"EMfrac\",slice(0.5,None))\n",
    "    h_EMfrac_p9_pass=h_EMfrac_p9.integrate(\"selection\",slice(1,None))\n",
    "    h_EMfrac_p9_pass.label='Signal Efficiency'\n",
    "    \n",
    "    h_EMfrac_low=h.integrate(\"EMfrac\",slice(None,0.5))\n",
    "    h_EMfrac_low_pass=h_EMfrac_low.integrate(\"selection\",slice(1,None))\n",
    "    h_EMfrac_low_pass.label='Signal Efficiency'\n",
    "    \n",
    "    hist.plotratio(\n",
    "    ax=ax,\n",
    "    num=h_pass.project(axis),\n",
    "    denom=h.project(axis),\n",
    "    error_opts={ 'marker': '.'},\n",
    "    unc='clopper-pearson',\n",
    "    label='Inclusive'\n",
    "    )\n",
    "\n",
    "    hist.plotratio(\n",
    "        ax=ax,\n",
    "        num=h_EMfrac_p9_pass.project(axis),\n",
    "        denom=h_EMfrac_p9.project(axis),\n",
    "        error_opts={ 'marker': '.'},\n",
    "        unc='clopper-pearson',\n",
    "        clear=False,\n",
    "        label='EMfrac>0.5'\n",
    "    )\n",
    "    hist.plotratio(\n",
    "        ax=ax,\n",
    "        num=h_EMfrac_low_pass.project(axis),\n",
    "        denom=h_EMfrac_low.project(axis),\n",
    "        error_opts={ 'marker': '.'},\n",
    "        unc='clopper-pearson',\n",
    "        clear=False,\n",
    "        label='EMfrac<0.5'\n",
    "    )    \n",
    "    ax.legend(loc='best')\n",
    "    return ax\n",
    "\n",
    "def plotEff(h_list,ax,axis='e'):\n",
    "    for h in h_list:\n",
    "        h_pass=h.integrate('selection',slice(1,None))\n",
    "        h_pass.label='Signal Efficiency'\n",
    "        \n",
    "        hist.plotratio(\n",
    "            ax=ax,\n",
    "            num=h_pass.project(axis),\n",
    "            denom=h.project(axis),\n",
    "            error_opts={'marker': '.'},\n",
    "            unc='clopper-pearson',\n",
    "            label=h.identifiers('dataset')[0].name,\n",
    "            clear=False\n",
    "        )\n",
    "\n",
    "    ax.legend(loc='best')\n",
    "    return ax\n",
    "\n",
    "def drawCSCr(ax):\n",
    "    y_max = ax.get_ylim()[1]\n",
    "    ax.axvline(350,linestyle=\"--\",color='grey')\n",
    "    ax.text(350-110 ,y_max*0.05, \"Inner ring\", fontsize=15)\n",
    "    ax.text(350+15 ,y_max*0.05, \"Outer ring\", fontsize=15)\n",
    "    return ax\n",
    "\n",
    "def drawCSCz(ax,text_loc=0.7):    \n",
    "    ax.set_xlim(550,1075)\n",
    "    (xmin,xmax) = ax.get_xlim()\n",
    "\n",
    "    y_max = ax.get_ylim()[1]\n",
    "\n",
    "    preME11 = patches.Rectangle((xmin, 0), 568-xmin, 2,color='grey',alpha=0.3)\n",
    "    ME11_12 = patches.Rectangle((632, 0), 39, 2,color='grey',alpha=0.3)\n",
    "    ME12_2  = patches.Rectangle((724, 0), 65, 2,color='grey',alpha=0.3)\n",
    "    ME2_3   = patches.Rectangle((849, 0), 62, 2,color='grey',alpha=0.3)\n",
    "    ME3_4   = patches.Rectangle((970, 0), 32, 2,color='grey',alpha=0.3)\n",
    "    beyond  = patches.Rectangle((1050, 0),50, 2,color='grey',alpha=0.3)\n",
    "\n",
    "    ax.text(570, y_max*1.02, 'ME1/1', fontsize=12)\n",
    "    ax.text(670, y_max*1.02, 'ME1/2-3', fontsize=12)\n",
    "    ax.text(800, y_max*1.02, 'ME2', fontsize=12)\n",
    "    ax.text(920, y_max*1.02, 'ME3', fontsize=12)\n",
    "    ax.text(1015, y_max*1.02,'ME4', fontsize=12)\n",
    "    ax.text(xmin+5 ,y_max*0.15, \"Steel\", fontsize=15,rotation=90)\n",
    "    ax.text(xmax-20,y_max*0.15, \"Beyond CMS\", fontsize=15,rotation=90)\n",
    "\n",
    "    ax.add_patch(preME11)\n",
    "    ax.add_patch(ME11_12)\n",
    "    ax.add_patch(ME12_2)\n",
    "    ax.add_patch(ME2_3)\n",
    "    ax.add_patch(ME3_4)\n",
    "    ax.add_patch(beyond)\n",
    "    return ax"
   ]
  },
  {
   "cell_type": "code",
   "execution_count": null,
   "metadata": {
    "scrolled": false
   },
   "outputs": [],
   "source": [
    "h=out['llp'][2:]\n",
    "\n",
    "ncols=2\n",
    "nrows=4\n",
    "figsize=(6,3)\n",
    "\n",
    "fig, axs = plt.subplots(nrows, ncols, squeeze=False,\n",
    "                        figsize=[ncols*figsize[0],nrows*figsize[1]])\n",
    "axs=axs.flatten()\n",
    "\n",
    "for i,d in enumerate(['selection','e','EMfrac','z','r']):\n",
    "    hist.plot1d(h.project(d,'dataset'),ax=axs[i],overlay=\"dataset\",density=True)\n",
    "\n",
    "plotEff_efrac(         \n",
    "#          h[r'$m_s$=15,$c\\tau$=1m'],    \n",
    "#          h[r'$m_s$=7,$c\\tau$=1m'], \n",
    "         h[r'HNL,$m_N$=5'],axs[5],'z')    \n",
    "    \n",
    "axs[5] = drawCSCz(axs[5])    \n",
    "# plotEff([         \n",
    "#          h[r'$m_s$=15,$c\\tau$=1m'],    \n",
    "#          h[r'$m_s$=7,$c\\tau$=1m'], \n",
    "#          h[r'HNL,$m_N$=5'],                  \n",
    "#          ],axs[5],'e')\n",
    "# plotEff([\n",
    "#          h[r'$m_s$=15,$c\\tau$=1m'],    \n",
    "#          h[r'$m_s$=7,$c\\tau$=1m'], \n",
    "#         h[r'HNL,$m_N$=5'],         \n",
    "#          ],axs[6],'z')\n",
    "# axs[6].set_ylim(0,2)\n",
    "# axs[6] = drawCSCz(axs[6])\n",
    "# plotEff([\n",
    "#          h[r'$m_s$=15,$c\\tau$=1m'],    \n",
    "#          h[r'$m_s$=7,$c\\tau$=1m'], \n",
    "#         h[r'HNL,$m_N$=5'],         \n",
    "#          ],axs[7],'r')\n",
    "# axs[7] = drawCSCr(axs[7])\n",
    "plt.tight_layout()"
   ]
  }
 ],
 "metadata": {
  "kernelspec": {
   "display_name": "coffeaenv",
   "language": "python",
   "name": "coffeaenv"
  },
  "language_info": {
   "codemirror_mode": {
    "name": "ipython",
    "version": 3
   },
   "file_extension": ".py",
   "mimetype": "text/x-python",
   "name": "python",
   "nbconvert_exporter": "python",
   "pygments_lexer": "ipython3",
   "version": "3.7.6"
  }
 },
 "nbformat": 4,
 "nbformat_minor": 2
}
